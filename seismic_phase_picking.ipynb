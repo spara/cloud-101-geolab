{
 "cells": [
  {
   "cell_type": "code",
   "execution_count": null,
   "id": "83509056-b4a4-4521-987c-99d37a39ecda",
   "metadata": {},
   "outputs": [],
   "source": [
    "from obspy.clients.fdsn import Client\n",
    "from obspy import UTCDateTime\n",
    "from obspy.core.event import read_events\n",
    "\n",
    "client = Client(\"IRIS\")\n",
    "starttime = UTCDateTime(\"2020-01-01\")\n",
    "endtime = UTCDateTime(\"2025-01-01\")\n",
    "cat = client.get_events(starttime=starttime, endtime=endtime, minmagnitude=7)\n",
    "# print(cat.__str__(print_all=True))\n",
    "print(cat.count())\n",
    "# print(cat[0].keys)\n",
    "# print(cat[0].values)\n",
    "# print(cat[0].origins)\n",
    "# print(cat[0].magnitudes)\n",
    "# print(cat[0].short_str)\n",
    "# print(cat[0].scope_resource_ids)\n",
    "\n",
    "# cat.plot();\n",
    "\n",
    "# for e in cat:\n",
    "print(cat[0].origins[0].time)\n"
   ]
  },
  {
   "cell_type": "code",
   "execution_count": null,
   "id": "0174bafc-b0b5-4c17-a572-37c34d827eec",
   "metadata": {},
   "outputs": [],
   "source": [
    "t = cat[0].origins[0].time\n",
    "st = client.get_waveforms(\"IU\", \"*\", \"*0\", \"?HZ\", t -60, t + 60 * 15)"
   ]
  },
  {
   "cell_type": "code",
   "execution_count": null,
   "id": "052cd2bf-b665-48b1-853e-0c2f9cef67c8",
   "metadata": {},
   "outputs": [],
   "source": [
    "print(len(tr))\n",
    "for tr in st:\n",
    "    print(tr.stats)"
   ]
  },
  {
   "cell_type": "code",
   "execution_count": null,
   "id": "41a245fd-b7b7-415b-8440-71a044bf59ba",
   "metadata": {},
   "outputs": [],
   "source": []
  },
  {
   "cell_type": "code",
   "execution_count": null,
   "id": "969ee9fe-9b95-4c48-a902-71a286bd4a4e",
   "metadata": {},
   "outputs": [],
   "source": []
  }
 ],
 "metadata": {
  "kernelspec": {
   "display_name": "Python 3 (ipykernel)",
   "language": "python",
   "name": "python3"
  },
  "language_info": {
   "codemirror_mode": {
    "name": "ipython",
    "version": 3
   },
   "file_extension": ".py",
   "mimetype": "text/x-python",
   "name": "python",
   "nbconvert_exporter": "python",
   "pygments_lexer": "ipython3",
   "version": "3.12.2"
  }
 },
 "nbformat": 4,
 "nbformat_minor": 5
}
