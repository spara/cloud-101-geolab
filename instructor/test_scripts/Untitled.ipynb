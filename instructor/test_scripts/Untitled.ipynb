{
 "cells": [
  {
   "cell_type": "code",
   "execution_count": 1,
   "id": "0cd2c10d-af55-46ed-86ec-01fd24e99f46",
   "metadata": {},
   "outputs": [
    {
     "ename": "ImportError",
     "evalue": "cannot import name 'DeviceCodeFlowSimple' from 'earthscope_sdk.auth.device_code_flow' (/srv/conda/envs/notebook/lib/python3.12/site-packages/earthscope_sdk/auth/device_code_flow.py)",
     "output_type": "error",
     "traceback": [
      "\u001b[0;31m---------------------------------------------------------------------------\u001b[0m",
      "\u001b[0;31mImportError\u001b[0m                               Traceback (most recent call last)",
      "Cell \u001b[0;32mIn[1], line 18\u001b[0m\n\u001b[1;32m     15\u001b[0m \u001b[38;5;28;01mimport\u001b[39;00m\u001b[38;5;250m \u001b[39m\u001b[38;5;21;01mrequests\u001b[39;00m\n\u001b[1;32m     16\u001b[0m \u001b[38;5;28;01mfrom\u001b[39;00m\u001b[38;5;250m \u001b[39m\u001b[38;5;21;01mpathlib\u001b[39;00m\u001b[38;5;250m \u001b[39m\u001b[38;5;28;01mimport\u001b[39;00m Path\n\u001b[0;32m---> 18\u001b[0m \u001b[38;5;28;01mfrom\u001b[39;00m\u001b[38;5;250m \u001b[39m\u001b[38;5;21;01mearthscope_sdk\u001b[39;00m\u001b[38;5;21;01m.\u001b[39;00m\u001b[38;5;21;01mauth\u001b[39;00m\u001b[38;5;21;01m.\u001b[39;00m\u001b[38;5;21;01mdevice_code_flow\u001b[39;00m\u001b[38;5;250m \u001b[39m\u001b[38;5;28;01mimport\u001b[39;00m DeviceCodeFlowSimple\n\u001b[1;32m     19\u001b[0m \u001b[38;5;28;01mfrom\u001b[39;00m\u001b[38;5;250m \u001b[39m\u001b[38;5;21;01mearthscope_sdk\u001b[39;00m\u001b[38;5;21;01m.\u001b[39;00m\u001b[38;5;21;01mauth\u001b[39;00m\u001b[38;5;21;01m.\u001b[39;00m\u001b[38;5;21;01mauth_flow\u001b[39;00m\u001b[38;5;250m \u001b[39m\u001b[38;5;28;01mimport\u001b[39;00m NoTokensError\n\u001b[1;32m     21\u001b[0m \u001b[38;5;28;01mdef\u001b[39;00m\u001b[38;5;250m \u001b[39m\u001b[38;5;21munix_time_millis\u001b[39m(dt):\n",
      "\u001b[0;31mImportError\u001b[0m: cannot import name 'DeviceCodeFlowSimple' from 'earthscope_sdk.auth.device_code_flow' (/srv/conda/envs/notebook/lib/python3.12/site-packages/earthscope_sdk/auth/device_code_flow.py)"
     ]
    }
   ],
   "source": [
    "import boto3 \n",
    "import time\n",
    "from datetime import datetime, timedelta\n",
    "import numpy as np\n",
    "import tiledb\n",
    "import os\n",
    "\n",
    "from dask.distributed import Client\n",
    "from dask.distributed import LocalCluster\n",
    "import dask, dask.array\n",
    "from dask_gateway import Gateway\n",
    "\n",
    "import matplotlib.pyplot as plt\n",
    "\n",
    "import requests\n",
    "from pathlib import Path\n",
    " \n",
    "from earthscope_sdk.auth.device_code_flow import DeviceCodeFlowSimple\n",
    "from earthscope_sdk.auth.auth_flow import NoTokensError\n",
    "\n",
    "def unix_time_millis(dt):\n",
    "    epoch = datetime.utcfromtimestamp(0)\n",
    "    return int((dt - epoch).total_seconds() * 1e3)\n",
    "\n",
    "def utc_time(dt):\n",
    "    epoch = datetime.utcfromtimestamp(0)\n",
    "    return timedelta(seconds=dt*1e-3) + epoch\n",
    "\n",
    "def get_es_file(url, directory_to_save_file='./', token_path='./'):\n",
    "    \"\"\"function to get earthscope data using es-sdk\n",
    "    modified from https://gitlab.com/earthscope/public/earthscope-sdk\n",
    "\n",
    "    Parameters\n",
    "    ----------\n",
    "    url : string\n",
    "        url of desired file at gage-data.earthscope.org\n",
    "    directory_to_save_file : str, optional\n",
    "        path of directory in which to save the file, by default cwd\n",
    "    token_path : str, optional\n",
    "        path of directory in which to save the token, by default './'\n",
    "    \"\"\"\n",
    "    # instantiate the device code flow subclass\n",
    "    device_flow = DeviceCodeFlowSimple(Path(token_path))\n",
    "    try:\n",
    "      # get access token from local path\n",
    "      device_flow.get_access_token_refresh_if_necessary()\n",
    "    except NoTokensError:\n",
    "      # if no token was found locally, do the device code flow\n",
    "      device_flow.do_flow()\n",
    "    token = device_flow.access_token\n",
    "\n",
    "    # request a file and provide the token in the Authorization header\n",
    "    file_name = Path(url).name\n",
    "\n",
    "    r = requests.get(url, headers={\"authorization\": f\"Bearer {token}\"})\n",
    "    if r.status_code == requests.codes.ok:\n",
    "      # save the file\n",
    "      with open(Path(Path(directory_to_save_file) / file_name), 'wb') as f:\n",
    "          for data in r:\n",
    "              f.write(data)\n",
    "    else:\n",
    "      #problem occured\n",
    "      print(f\"failure: {r.status_code}, {r.reason}\")"
   ]
  },
  {
   "cell_type": "code",
   "execution_count": 3,
   "id": "57355c69-2d9e-4d51-a9cb-5cfd4353bc1e",
   "metadata": {},
   "outputs": [],
   "source": [
    "import georinex as gr #https://github.com/geospace-code/georinex/blob/main/Readme_OBS.md\n",
    "import os\n"
   ]
  },
  {
   "cell_type": "code",
   "execution_count": 4,
   "id": "02ff204c-24ec-4366-888a-4ed2d7dd6f32",
   "metadata": {},
   "outputs": [
    {
     "name": "stdout",
     "output_type": "stream",
     "text": [
      "Attempting to automatically open the SSO authorization page in your default browser.\n",
      "If the browser does not open or you wish to use a different device to authorize this request, open the following URL:\n",
      "\n",
      "https://d-9a672d0f17.awsapps.com/start/#/device\n",
      "\n",
      "Then enter the code:\n",
      "\n",
      "PXZN-KFFT\n",
      "Successfully logged into Start URL: https://d-9a672d0f17.awsapps.com/start#/\n"
     ]
    }
   ],
   "source": [
    "!aws sso login --profile es-dev"
   ]
  },
  {
   "cell_type": "code",
   "execution_count": 5,
   "id": "06cdad62-c83b-47a5-bc44-acfce5adce27",
   "metadata": {},
   "outputs": [],
   "source": [
    "session=boto3.Session(profile_name='es-dev')\n",
    "credentials=session.get_credentials()\n",
    "credentials=credentials.get_frozen_credentials()\n",
    "\n",
    "tdb_config={\"vfs.s3.region\": \"us-east-2\", \"sm.io_concurrency_level\": 12, \n",
    "                                              \"vfs.s3.aws_access_key_id\":credentials.access_key, \"vfs.s3.aws_secret_access_key\":credentials.secret_key,\n",
    "                                             \"vfs.s3.aws_session_token\":credentials.token}"
   ]
  },
  {
   "cell_type": "code",
   "execution_count": 6,
   "id": "b06779ba-8951-495d-8389-cd060a6b3a1b",
   "metadata": {},
   "outputs": [],
   "source": [
    "# pnum='P057'  #using datasources-api https://datasources-api.dev.earthscope.org/docs#/Stream/Stream-find_streams\n",
    "# edid=\"01GVDXYKWXCFP2N5WAJN4CX36F\"\n",
    "# year=2024\n",
    "# start_time='2024-05-11'\n",
    "# duration='12' #hours  \n",
    "# constell= 0 #'GPS'\n",
    "# obs_code=12611 #L1C   int(12611).to_bytes(2, 'big').decode(\"utf-8\")\n",
    "\n",
    "# bucket='s3://repository-stage-us-east-2-mlmoghi3ooss/gnss/obs/tiledb/'\n",
    "\n",
    "pnum = 'P057'  \n",
    "edid = \"01GVDXYKWXCFP2N5WAJN4CX36F\"\n",
    "year = 2024\n",
    "start_time = '2024-05-11'\n",
    "duration = '12'  # hours  \n",
    "constell = 0  # 'GPS'\n",
    "obs_code = 12611  # 1C  \n",
    "# Convert the observation code to a byte string representation (e.g., '12611' -> b'12611')\n",
    "obs_code_str = int(obs_code).to_bytes(2, 'big').decode(\"utf-8\")\n",
    "\n",
    "\n",
    "bucket = 's3://repository-stage-us-east-2-mlmoghi3ooss/geolab-gnss-demo/'\n",
    "\n",
    "uri=bucket+pnum+\".tdb\"\n",
    "\n",
    "start_date=datetime.fromisoformat(start_time)\n",
    "durationz=timedelta(hours=int(duration)) #1hour\n",
    "end_date=start_date+durationz\n",
    "\n"
   ]
  },
  {
   "cell_type": "code",
   "execution_count": 7,
   "id": "444e96e9-b531-42cf-a76a-c01e38659a0c",
   "metadata": {},
   "outputs": [
    {
     "name": "stdout",
     "output_type": "stream",
     "text": [
      "URI: s3://repository-stage-us-east-2-mlmoghi3ooss/geolab-gnss-demo/P057.tdb\n",
      "Start Date: 2024-05-11 00:00:00\n",
      "End Date: 2024-05-11 12:00:00\n",
      "Constellation: 0\n",
      "Obscode: 12611\n",
      "Count in entire array for 'snr': 414257029\n",
      "CPU times: user 7.11 s, sys: 4.09 s, total: 11.2 s\n",
      "Wall time: 5.81 s\n"
     ]
    },
    {
     "data": {
      "text/html": [
       "<div>\n",
       "<style scoped>\n",
       "    .dataframe tbody tr th:only-of-type {\n",
       "        vertical-align: middle;\n",
       "    }\n",
       "\n",
       "    .dataframe tbody tr th {\n",
       "        vertical-align: top;\n",
       "    }\n",
       "\n",
       "    .dataframe thead th {\n",
       "        text-align: right;\n",
       "    }\n",
       "</style>\n",
       "<table border=\"1\" class=\"dataframe\">\n",
       "  <thead>\n",
       "    <tr style=\"text-align: right;\">\n",
       "      <th></th>\n",
       "      <th>time</th>\n",
       "      <th>sys</th>\n",
       "      <th>sat</th>\n",
       "      <th>obs</th>\n",
       "      <th>range</th>\n",
       "      <th>phase</th>\n",
       "      <th>doppler</th>\n",
       "      <th>snr</th>\n",
       "      <th>slip</th>\n",
       "      <th>flags</th>\n",
       "      <th>fcn</th>\n",
       "      <th>constell</th>\n",
       "      <th>obs_code</th>\n",
       "    </tr>\n",
       "  </thead>\n",
       "  <tbody>\n",
       "    <tr>\n",
       "      <th>0</th>\n",
       "      <td>1715393175000</td>\n",
       "      <td>1</td>\n",
       "      <td>2</td>\n",
       "      <td>12611</td>\n",
       "      <td>2.598896e+07</td>\n",
       "      <td>1.365729e+08</td>\n",
       "      <td>3239.104</td>\n",
       "      <td>34.00</td>\n",
       "      <td>0</td>\n",
       "      <td>1</td>\n",
       "      <td>0</td>\n",
       "      <td>0</td>\n",
       "      <td>12611</td>\n",
       "    </tr>\n",
       "    <tr>\n",
       "      <th>1</th>\n",
       "      <td>1715393190000</td>\n",
       "      <td>1</td>\n",
       "      <td>2</td>\n",
       "      <td>12611</td>\n",
       "      <td>2.597972e+07</td>\n",
       "      <td>1.365243e+08</td>\n",
       "      <td>3238.862</td>\n",
       "      <td>30.50</td>\n",
       "      <td>0</td>\n",
       "      <td>0</td>\n",
       "      <td>0</td>\n",
       "      <td>0</td>\n",
       "      <td>12611</td>\n",
       "    </tr>\n",
       "    <tr>\n",
       "      <th>2</th>\n",
       "      <td>1715393205000</td>\n",
       "      <td>1</td>\n",
       "      <td>2</td>\n",
       "      <td>12611</td>\n",
       "      <td>2.597047e+07</td>\n",
       "      <td>1.364757e+08</td>\n",
       "      <td>3239.710</td>\n",
       "      <td>39.50</td>\n",
       "      <td>0</td>\n",
       "      <td>1</td>\n",
       "      <td>0</td>\n",
       "      <td>0</td>\n",
       "      <td>12611</td>\n",
       "    </tr>\n",
       "    <tr>\n",
       "      <th>3</th>\n",
       "      <td>1715393220000</td>\n",
       "      <td>1</td>\n",
       "      <td>2</td>\n",
       "      <td>12611</td>\n",
       "      <td>2.596122e+07</td>\n",
       "      <td>1.364271e+08</td>\n",
       "      <td>3239.520</td>\n",
       "      <td>38.50</td>\n",
       "      <td>0</td>\n",
       "      <td>0</td>\n",
       "      <td>0</td>\n",
       "      <td>0</td>\n",
       "      <td>12611</td>\n",
       "    </tr>\n",
       "    <tr>\n",
       "      <th>4</th>\n",
       "      <td>1715393235000</td>\n",
       "      <td>1</td>\n",
       "      <td>2</td>\n",
       "      <td>12611</td>\n",
       "      <td>2.595198e+07</td>\n",
       "      <td>1.363786e+08</td>\n",
       "      <td>3238.626</td>\n",
       "      <td>36.75</td>\n",
       "      <td>0</td>\n",
       "      <td>1</td>\n",
       "      <td>0</td>\n",
       "      <td>0</td>\n",
       "      <td>12611</td>\n",
       "    </tr>\n",
       "  </tbody>\n",
       "</table>\n",
       "</div>"
      ],
      "text/plain": [
       "            time  sys  sat    obs         range         phase   doppler  \\\n",
       "0  1715393175000    1    2  12611  2.598896e+07  1.365729e+08  3239.104   \n",
       "1  1715393190000    1    2  12611  2.597972e+07  1.365243e+08  3238.862   \n",
       "2  1715393205000    1    2  12611  2.597047e+07  1.364757e+08  3239.710   \n",
       "3  1715393220000    1    2  12611  2.596122e+07  1.364271e+08  3239.520   \n",
       "4  1715393235000    1    2  12611  2.595198e+07  1.363786e+08  3238.626   \n",
       "\n",
       "     snr  slip  flags  fcn  constell  obs_code  \n",
       "0  34.00     0      1    0         0     12611  \n",
       "1  30.50     0      0    0         0     12611  \n",
       "2  39.50     0      1    0         0     12611  \n",
       "3  38.50     0      0    0         0     12611  \n",
       "4  36.75     0      1    0         0     12611  "
      ]
     },
     "execution_count": 7,
     "metadata": {},
     "output_type": "execute_result"
    }
   ],
   "source": [
    "%%time\n",
    "# With pandas\n",
    "import pandas as pd\n",
    "df = pd.DataFrame()\n",
    "\n",
    "# Print the values to verify\n",
    "print(f\"URI: {uri}\")\n",
    "print(f\"Start Date: {start_date}\")\n",
    "print(f\"End Date: {end_date}\")\n",
    "print(f\"Constellation: {constell}\")\n",
    "print(f\"Obscode: {obs_code}\")\n",
    "\n",
    "start = unix_time_millis(start_date)\n",
    "end = unix_time_millis(end_date)\n",
    "\n",
    "with tiledb.open(uri, mode=\"r\", config=tdb_config,) as A:\n",
    "    # A.upgrade_version()\n",
    "    # note that array indexes are half-open like NumPy\n",
    "    # df = A.df[unix_time_millis(start_date): unix_time_millis(end_date),constell,:,obs_code]\n",
    "    df = A.df[start:end, :]\n",
    "\n",
    "    # schema = A.schema\n",
    "    # print(schema)\n",
    "\n",
    "    print(\"Count in entire array for 'snr':\", A.query().agg({\"snr\": \"count\"})[:])\n",
    "df[\"constell\"] = constell\n",
    "df[\"obs_code\"] = obs_code\n",
    "df.head()"
   ]
  },
  {
   "cell_type": "code",
   "execution_count": 8,
   "id": "c9b55fbc-2713-4eba-a8a9-8bac4e32fee4",
   "metadata": {},
   "outputs": [
    {
     "name": "stdout",
     "output_type": "stream",
     "text": [
      "(514811, 13)\n"
     ]
    },
    {
     "data": {
      "text/html": [
       "<div>\n",
       "<style scoped>\n",
       "    .dataframe tbody tr th:only-of-type {\n",
       "        vertical-align: middle;\n",
       "    }\n",
       "\n",
       "    .dataframe tbody tr th {\n",
       "        vertical-align: top;\n",
       "    }\n",
       "\n",
       "    .dataframe thead th {\n",
       "        text-align: right;\n",
       "    }\n",
       "</style>\n",
       "<table border=\"1\" class=\"dataframe\">\n",
       "  <thead>\n",
       "    <tr style=\"text-align: right;\">\n",
       "      <th></th>\n",
       "      <th>time</th>\n",
       "      <th>sys</th>\n",
       "      <th>sat</th>\n",
       "      <th>obs</th>\n",
       "      <th>range</th>\n",
       "      <th>phase</th>\n",
       "      <th>doppler</th>\n",
       "      <th>snr</th>\n",
       "      <th>slip</th>\n",
       "      <th>flags</th>\n",
       "      <th>fcn</th>\n",
       "      <th>constell</th>\n",
       "      <th>obs_code</th>\n",
       "    </tr>\n",
       "  </thead>\n",
       "  <tbody>\n",
       "    <tr>\n",
       "      <th>0</th>\n",
       "      <td>1715393175000</td>\n",
       "      <td>1</td>\n",
       "      <td>2</td>\n",
       "      <td>12611</td>\n",
       "      <td>2.598896e+07</td>\n",
       "      <td>1.365729e+08</td>\n",
       "      <td>3239.104</td>\n",
       "      <td>34.00</td>\n",
       "      <td>0</td>\n",
       "      <td>1</td>\n",
       "      <td>0</td>\n",
       "      <td>0</td>\n",
       "      <td>12611</td>\n",
       "    </tr>\n",
       "    <tr>\n",
       "      <th>1</th>\n",
       "      <td>1715393190000</td>\n",
       "      <td>1</td>\n",
       "      <td>2</td>\n",
       "      <td>12611</td>\n",
       "      <td>2.597972e+07</td>\n",
       "      <td>1.365243e+08</td>\n",
       "      <td>3238.862</td>\n",
       "      <td>30.50</td>\n",
       "      <td>0</td>\n",
       "      <td>0</td>\n",
       "      <td>0</td>\n",
       "      <td>0</td>\n",
       "      <td>12611</td>\n",
       "    </tr>\n",
       "    <tr>\n",
       "      <th>2</th>\n",
       "      <td>1715393205000</td>\n",
       "      <td>1</td>\n",
       "      <td>2</td>\n",
       "      <td>12611</td>\n",
       "      <td>2.597047e+07</td>\n",
       "      <td>1.364757e+08</td>\n",
       "      <td>3239.710</td>\n",
       "      <td>39.50</td>\n",
       "      <td>0</td>\n",
       "      <td>1</td>\n",
       "      <td>0</td>\n",
       "      <td>0</td>\n",
       "      <td>12611</td>\n",
       "    </tr>\n",
       "    <tr>\n",
       "      <th>3</th>\n",
       "      <td>1715393220000</td>\n",
       "      <td>1</td>\n",
       "      <td>2</td>\n",
       "      <td>12611</td>\n",
       "      <td>2.596122e+07</td>\n",
       "      <td>1.364271e+08</td>\n",
       "      <td>3239.520</td>\n",
       "      <td>38.50</td>\n",
       "      <td>0</td>\n",
       "      <td>0</td>\n",
       "      <td>0</td>\n",
       "      <td>0</td>\n",
       "      <td>12611</td>\n",
       "    </tr>\n",
       "    <tr>\n",
       "      <th>4</th>\n",
       "      <td>1715393235000</td>\n",
       "      <td>1</td>\n",
       "      <td>2</td>\n",
       "      <td>12611</td>\n",
       "      <td>2.595198e+07</td>\n",
       "      <td>1.363786e+08</td>\n",
       "      <td>3238.626</td>\n",
       "      <td>36.75</td>\n",
       "      <td>0</td>\n",
       "      <td>1</td>\n",
       "      <td>0</td>\n",
       "      <td>0</td>\n",
       "      <td>12611</td>\n",
       "    </tr>\n",
       "  </tbody>\n",
       "</table>\n",
       "</div>"
      ],
      "text/plain": [
       "            time  sys  sat    obs         range         phase   doppler  \\\n",
       "0  1715393175000    1    2  12611  2.598896e+07  1.365729e+08  3239.104   \n",
       "1  1715393190000    1    2  12611  2.597972e+07  1.365243e+08  3238.862   \n",
       "2  1715393205000    1    2  12611  2.597047e+07  1.364757e+08  3239.710   \n",
       "3  1715393220000    1    2  12611  2.596122e+07  1.364271e+08  3239.520   \n",
       "4  1715393235000    1    2  12611  2.595198e+07  1.363786e+08  3238.626   \n",
       "\n",
       "     snr  slip  flags  fcn  constell  obs_code  \n",
       "0  34.00     0      1    0         0     12611  \n",
       "1  30.50     0      0    0         0     12611  \n",
       "2  39.50     0      1    0         0     12611  \n",
       "3  38.50     0      0    0         0     12611  \n",
       "4  36.75     0      1    0         0     12611  "
      ]
     },
     "execution_count": 8,
     "metadata": {},
     "output_type": "execute_result"
    }
   ],
   "source": [
    "print(df.shape)\n",
    "df.head()\n"
   ]
  },
  {
   "cell_type": "code",
   "execution_count": 12,
   "id": "8aa9610b-65b0-4191-b9ea-711d2aed09c7",
   "metadata": {},
   "outputs": [
    {
     "data": {
      "text/plain": [
       "<Axes: >"
      ]
     },
     "execution_count": 12,
     "metadata": {},
     "output_type": "execute_result"
    },
    {
     "data": {
      "image/png": "[encoded data removed]",
      "text/plain": [
       "<Figure size 640x480 with 1 Axes>"
      ]
     },
     "metadata": {},
     "output_type": "display_data"
    }
   ],
   "source": [
    "df[df.sat==1].snr.plot()"
   ]
  },
  {
   "cell_type": "markdown",
   "id": "7fbb61c6-12d5-42c4-bfe7-8638a47f19be",
   "metadata": {
    "editable": true,
    "slideshow": {
     "slide_type": ""
    },
    "tags": []
   },
   "source": [
    "# Dask"
   ]
  },
  {
   "cell_type": "code",
   "execution_count": 8,
   "id": "c3da52d9-fde0-4426-a191-fbe1e68830bc",
   "metadata": {
    "editable": true,
    "slideshow": {
     "slide_type": ""
    },
    "tags": []
   },
   "outputs": [
    {
     "data": {
      "application/vnd.jupyter.widget-view+json": {
       "model_id": "3f0c143347354a69b26641231c78db68",
       "version_major": 2,
       "version_minor": 0
      },
      "text/plain": [
       "VBox(children=(HTML(value='<h2>Cluster Options</h2>'), GridBox(children=(HTML(value=\"<p style='font-weight: bo…"
      ]
     },
     "metadata": {},
     "output_type": "display_data"
    },
    {
     "name": "stderr",
     "output_type": "stream",
     "text": [
      "Task exception was never retrieved\n",
      "future: <Task finished name='Task-898' coro=<Client._gather.<locals>.wait() done, defined at /srv/conda/envs/notebook/lib/python3.11/site-packages/distributed/client.py:2197> exception=AllExit()>\n",
      "Traceback (most recent call last):\n",
      "  File \"/srv/conda/envs/notebook/lib/python3.11/site-packages/distributed/client.py\", line 2206, in wait\n",
      "    raise AllExit()\n",
      "distributed.client.AllExit\n",
      "Exception in callback None()\n",
      "handle: <Handle cancelled>\n",
      "Traceback (most recent call last):\n",
      "  File \"/srv/conda/envs/notebook/lib/python3.11/site-packages/tornado/iostream.py\", line 1367, in _do_ssl_handshake\n",
      "    self.socket.do_handshake()\n",
      "  File \"/srv/conda/envs/notebook/lib/python3.11/ssl.py\", line 1382, in do_handshake\n",
      "    self._sslobj.do_handshake()\n",
      "ssl.SSLCertVerificationError: [SSL: CERTIFICATE_VERIFY_FAILED] certificate verify failed: self-signed certificate (_ssl.c:1006)\n",
      "\n",
      "During handling of the above exception, another exception occurred:\n",
      "\n",
      "Traceback (most recent call last):\n",
      "  File \"/srv/conda/envs/notebook/lib/python3.11/asyncio/events.py\", line 84, in _run\n",
      "    self._context.run(self._callback, *self._args)\n",
      "  File \"/srv/conda/envs/notebook/lib/python3.11/site-packages/tornado/platform/asyncio.py\", line 202, in _handle_events\n",
      "    handler_func(fileobj, events)\n",
      "  File \"/srv/conda/envs/notebook/lib/python3.11/site-packages/tornado/iostream.py\", line 691, in _handle_events\n",
      "    self._handle_read()\n",
      "  File \"/srv/conda/envs/notebook/lib/python3.11/site-packages/tornado/iostream.py\", line 1427, in _handle_read\n",
      "    self._do_ssl_handshake()\n",
      "  File \"/srv/conda/envs/notebook/lib/python3.11/site-packages/tornado/iostream.py\", line 1385, in _do_ssl_handshake\n",
      "    return self.close(exc_info=err)\n",
      "           ^^^^^^^^^^^^^^^^^^^^^^^^\n",
      "  File \"/srv/conda/envs/notebook/lib/python3.11/site-packages/tornado/iostream.py\", line 606, in close\n",
      "    self._signal_closed()\n",
      "  File \"/srv/conda/envs/notebook/lib/python3.11/site-packages/tornado/iostream.py\", line 636, in _signal_closed\n",
      "    self._ssl_connect_future.exception()\n",
      "asyncio.exceptions.CancelledError\n",
      "Exception in callback None()\n",
      "handle: <Handle cancelled>\n",
      "Traceback (most recent call last):\n",
      "  File \"/srv/conda/envs/notebook/lib/python3.11/site-packages/tornado/iostream.py\", line 1367, in _do_ssl_handshake\n",
      "    self.socket.do_handshake()\n",
      "  File \"/srv/conda/envs/notebook/lib/python3.11/ssl.py\", line 1382, in do_handshake\n",
      "    self._sslobj.do_handshake()\n",
      "ssl.SSLCertVerificationError: [SSL: CERTIFICATE_VERIFY_FAILED] certificate verify failed: self-signed certificate (_ssl.c:1006)\n",
      "\n",
      "During handling of the above exception, another exception occurred:\n",
      "\n",
      "Traceback (most recent call last):\n",
      "  File \"/srv/conda/envs/notebook/lib/python3.11/asyncio/events.py\", line 84, in _run\n",
      "    self._context.run(self._callback, *self._args)\n",
      "  File \"/srv/conda/envs/notebook/lib/python3.11/site-packages/tornado/platform/asyncio.py\", line 202, in _handle_events\n",
      "    handler_func(fileobj, events)\n",
      "  File \"/srv/conda/envs/notebook/lib/python3.11/site-packages/tornado/iostream.py\", line 691, in _handle_events\n",
      "    self._handle_read()\n",
      "  File \"/srv/conda/envs/notebook/lib/python3.11/site-packages/tornado/iostream.py\", line 1427, in _handle_read\n",
      "    self._do_ssl_handshake()\n",
      "  File \"/srv/conda/envs/notebook/lib/python3.11/site-packages/tornado/iostream.py\", line 1385, in _do_ssl_handshake\n",
      "    return self.close(exc_info=err)\n",
      "           ^^^^^^^^^^^^^^^^^^^^^^^^\n",
      "  File \"/srv/conda/envs/notebook/lib/python3.11/site-packages/tornado/iostream.py\", line 606, in close\n",
      "    self._signal_closed()\n",
      "  File \"/srv/conda/envs/notebook/lib/python3.11/site-packages/tornado/iostream.py\", line 636, in _signal_closed\n",
      "    self._ssl_connect_future.exception()\n",
      "asyncio.exceptions.CancelledError\n"
     ]
    }
   ],
   "source": [
    "from dask.distributed import Client\n",
    "from dask.distributed import LocalCluster\n",
    "import dask, dask.array\n",
    "from dask_gateway import Gateway\n",
    "import bokeh\n",
    "\n",
    "gateway = Gateway()  # Uses values configured for the 2i2c Dask hub (recommended)\n",
    "\n",
    "gateway.list_clusters()\n",
    "\n",
    "options = gateway.cluster_options()\n",
    "# options.worker_cores = 2\n",
    "options"
   ]
  },
  {
   "cell_type": "code",
   "execution_count": 9,
   "id": "8c4886c9-0380-44ee-a3d3-a61935a3eba9",
   "metadata": {
    "editable": true,
    "slideshow": {
     "slide_type": ""
    },
    "tags": []
   },
   "outputs": [
    {
     "data": {
      "application/vnd.jupyter.widget-view+json": {
       "model_id": "4557e0f3c488476388445ee2a41e392e",
       "version_major": 2,
       "version_minor": 0
      },
      "text/plain": [
       "VBox(children=(HTML(value='<h2>GatewayCluster</h2>'), HBox(children=(HTML(value='\\n<div>\\n<style scoped>\\n    …"
      ]
     },
     "metadata": {},
     "output_type": "display_data"
    }
   ],
   "source": [
    "# Create and scale gateway cluster\n",
    "cluster = gateway.new_cluster(options)\n",
    "cluster.scale(2)\n",
    "cluster.adapt(minimum=2, maximum=4)\n",
    "cluster\n"
   ]
  },
  {
   "cell_type": "code",
   "execution_count": 11,
   "id": "80bb79b8-499a-471d-a638-65bc5825ce05",
   "metadata": {
    "editable": true,
    "slideshow": {
     "slide_type": ""
    },
    "tags": []
   },
   "outputs": [
    {
     "data": {
      "text/html": [
       "<div>\n",
       "    <div style=\"width: 24px; height: 24px; background-color: #e1e1e1; border: 3px solid #9D9D9D; border-radius: 5px; position: absolute;\"> </div>\n",
       "    <div style=\"margin-left: 48px;\">\n",
       "        <h3 style=\"margin-bottom: 0px;\">Client</h3>\n",
       "        <p style=\"color: #9D9D9D; margin-bottom: 0px;\">Client-6ecb0f54-256e-11f0-866e-9e91b1af52af</p>\n",
       "        <table style=\"width: 100%; text-align: left;\">\n",
       "\n",
       "        <tr>\n",
       "        \n",
       "            <td style=\"text-align: left;\"><strong>Connection method:</strong> Cluster object</td>\n",
       "            <td style=\"text-align: left;\"><strong>Cluster type:</strong> dask_gateway.GatewayCluster</td>\n",
       "        \n",
       "        </tr>\n",
       "\n",
       "        \n",
       "            <tr>\n",
       "                <td style=\"text-align: left;\">\n",
       "                    <strong>Dashboard: </strong> <a href=\"/services/dask-gateway/clusters/prod.9c004566d8944ad8bd0efa8a89231b8a/status\" target=\"_blank\">/services/dask-gateway/clusters/prod.9c004566d8944ad8bd0efa8a89231b8a/status</a>\n",
       "                </td>\n",
       "                <td style=\"text-align: left;\"></td>\n",
       "            </tr>\n",
       "        \n",
       "\n",
       "        </table>\n",
       "\n",
       "        \n",
       "            <button style=\"margin-bottom: 12px;\" data-commandlinker-command=\"dask:populate-and-launch-layout\" data-commandlinker-args='{\"url\": \"/services/dask-gateway/clusters/prod.9c004566d8944ad8bd0efa8a89231b8a/status\" }'>\n",
       "                Launch dashboard in JupyterLab\n",
       "            </button>\n",
       "        \n",
       "\n",
       "        \n",
       "            <details>\n",
       "            <summary style=\"margin-bottom: 20px;\"><h3 style=\"display: inline;\">Cluster Info</h3></summary>\n",
       "            <div style='background-color: #f2f2f2; display: inline-block; padding: 10px; border: 1px solid #999999;'>\n",
       "  <h3>GatewayCluster</h3>\n",
       "  <ul>\n",
       "    <li><b>Name: </b>prod.9c004566d8944ad8bd0efa8a89231b8a\n",
       "    <li><b>Dashboard: </b><a href='/services/dask-gateway/clusters/prod.9c004566d8944ad8bd0efa8a89231b8a/status' target='_blank'>/services/dask-gateway/clusters/prod.9c004566d8944ad8bd0efa8a89231b8a/status</a>\n",
       "  </ul>\n",
       "</div>\n",
       "\n",
       "            </details>\n",
       "        \n",
       "\n",
       "    </div>\n",
       "</div>"
      ],
      "text/plain": [
       "<Client: 'tls://192.168.14.126:8786' processes=0 threads=0, memory=0 B>"
      ]
     },
     "execution_count": 11,
     "metadata": {},
     "output_type": "execute_result"
    },
    {
     "name": "stderr",
     "output_type": "stream",
     "text": [
      "2025-04-30 03:38:47,039 - distributed.client - ERROR - Failed to reconnect to scheduler after 30.00 seconds, closing client\n"
     ]
    }
   ],
   "source": [
    "#Connect to the gateway cluster\n",
    "client = cluster.get_client()\n",
    "client"
   ]
  },
  {
   "cell_type": "code",
   "execution_count": 12,
   "id": "5c6126bd-3f88-496c-95c9-13a3ccec9076",
   "metadata": {},
   "outputs": [
    {
     "ename": "KeyboardInterrupt",
     "evalue": "",
     "output_type": "error",
     "traceback": [
      "\u001b[0;31m---------------------------------------------------------------------------\u001b[0m",
      "\u001b[0;31mKeyboardInterrupt\u001b[0m                         Traceback (most recent call last)",
      "Cell \u001b[0;32mIn[12], line 3\u001b[0m\n\u001b[1;32m      1\u001b[0m \u001b[38;5;28;01mimport\u001b[39;00m \u001b[38;5;21;01mdask\u001b[39;00m\u001b[38;5;21;01m.\u001b[39;00m\u001b[38;5;21;01marray\u001b[39;00m \u001b[38;5;28;01mas\u001b[39;00m \u001b[38;5;21;01mda\u001b[39;00m\n\u001b[1;32m      2\u001b[0m a \u001b[38;5;241m=\u001b[39m da\u001b[38;5;241m.\u001b[39mrandom\u001b[38;5;241m.\u001b[39mnormal(size\u001b[38;5;241m=\u001b[39m(\u001b[38;5;241m1000\u001b[39m, \u001b[38;5;241m1000\u001b[39m), chunks\u001b[38;5;241m=\u001b[39m(\u001b[38;5;241m500\u001b[39m, \u001b[38;5;241m500\u001b[39m))\n\u001b[0;32m----> 3\u001b[0m \u001b[43ma\u001b[49m\u001b[38;5;241;43m.\u001b[39;49m\u001b[43mmean\u001b[49m\u001b[43m(\u001b[49m\u001b[43m)\u001b[49m\u001b[38;5;241;43m.\u001b[39;49m\u001b[43mcompute\u001b[49m\u001b[43m(\u001b[49m\u001b[43m)\u001b[49m\n",
      "File \u001b[0;32m/srv/conda/envs/notebook/lib/python3.11/site-packages/dask/base.py:375\u001b[0m, in \u001b[0;36mDaskMethodsMixin.compute\u001b[0;34m(self, **kwargs)\u001b[0m\n\u001b[1;32m    351\u001b[0m \u001b[38;5;28;01mdef\u001b[39;00m \u001b[38;5;21mcompute\u001b[39m(\u001b[38;5;28mself\u001b[39m, \u001b[38;5;241m*\u001b[39m\u001b[38;5;241m*\u001b[39mkwargs):\n\u001b[1;32m    352\u001b[0m \u001b[38;5;250m    \u001b[39m\u001b[38;5;124;03m\"\"\"Compute this dask collection\u001b[39;00m\n\u001b[1;32m    353\u001b[0m \n\u001b[1;32m    354\u001b[0m \u001b[38;5;124;03m    This turns a lazy Dask collection into its in-memory equivalent.\u001b[39;00m\n\u001b[0;32m   (...)\u001b[0m\n\u001b[1;32m    373\u001b[0m \u001b[38;5;124;03m    dask.compute\u001b[39;00m\n\u001b[1;32m    374\u001b[0m \u001b[38;5;124;03m    \"\"\"\u001b[39;00m\n\u001b[0;32m--> 375\u001b[0m     (result,) \u001b[38;5;241m=\u001b[39m \u001b[43mcompute\u001b[49m\u001b[43m(\u001b[49m\u001b[38;5;28;43mself\u001b[39;49m\u001b[43m,\u001b[49m\u001b[43m \u001b[49m\u001b[43mtraverse\u001b[49m\u001b[38;5;241;43m=\u001b[39;49m\u001b[38;5;28;43;01mFalse\u001b[39;49;00m\u001b[43m,\u001b[49m\u001b[43m \u001b[49m\u001b[38;5;241;43m*\u001b[39;49m\u001b[38;5;241;43m*\u001b[39;49m\u001b[43mkwargs\u001b[49m\u001b[43m)\u001b[49m\n\u001b[1;32m    376\u001b[0m     \u001b[38;5;28;01mreturn\u001b[39;00m result\n",
      "File \u001b[0;32m/srv/conda/envs/notebook/lib/python3.11/site-packages/dask/base.py:661\u001b[0m, in \u001b[0;36mcompute\u001b[0;34m(traverse, optimize_graph, scheduler, get, *args, **kwargs)\u001b[0m\n\u001b[1;32m    658\u001b[0m     postcomputes\u001b[38;5;241m.\u001b[39mappend(x\u001b[38;5;241m.\u001b[39m__dask_postcompute__())\n\u001b[1;32m    660\u001b[0m \u001b[38;5;28;01mwith\u001b[39;00m shorten_traceback():\n\u001b[0;32m--> 661\u001b[0m     results \u001b[38;5;241m=\u001b[39m \u001b[43mschedule\u001b[49m\u001b[43m(\u001b[49m\u001b[43mdsk\u001b[49m\u001b[43m,\u001b[49m\u001b[43m \u001b[49m\u001b[43mkeys\u001b[49m\u001b[43m,\u001b[49m\u001b[43m \u001b[49m\u001b[38;5;241;43m*\u001b[39;49m\u001b[38;5;241;43m*\u001b[39;49m\u001b[43mkwargs\u001b[49m\u001b[43m)\u001b[49m\n\u001b[1;32m    663\u001b[0m \u001b[38;5;28;01mreturn\u001b[39;00m repack([f(r, \u001b[38;5;241m*\u001b[39ma) \u001b[38;5;28;01mfor\u001b[39;00m r, (f, a) \u001b[38;5;129;01min\u001b[39;00m \u001b[38;5;28mzip\u001b[39m(results, postcomputes)])\n",
      "File \u001b[0;32m/srv/conda/envs/notebook/lib/python3.11/threading.py:629\u001b[0m, in \u001b[0;36mEvent.wait\u001b[0;34m(self, timeout)\u001b[0m\n\u001b[1;32m    627\u001b[0m signaled \u001b[38;5;241m=\u001b[39m \u001b[38;5;28mself\u001b[39m\u001b[38;5;241m.\u001b[39m_flag\n\u001b[1;32m    628\u001b[0m \u001b[38;5;28;01mif\u001b[39;00m \u001b[38;5;129;01mnot\u001b[39;00m signaled:\n\u001b[0;32m--> 629\u001b[0m     signaled \u001b[38;5;241m=\u001b[39m \u001b[38;5;28;43mself\u001b[39;49m\u001b[38;5;241;43m.\u001b[39;49m\u001b[43m_cond\u001b[49m\u001b[38;5;241;43m.\u001b[39;49m\u001b[43mwait\u001b[49m\u001b[43m(\u001b[49m\u001b[43mtimeout\u001b[49m\u001b[43m)\u001b[49m\n\u001b[1;32m    630\u001b[0m \u001b[38;5;28;01mreturn\u001b[39;00m signaled\n",
      "File \u001b[0;32m/srv/conda/envs/notebook/lib/python3.11/threading.py:331\u001b[0m, in \u001b[0;36mCondition.wait\u001b[0;34m(self, timeout)\u001b[0m\n\u001b[1;32m    329\u001b[0m \u001b[38;5;28;01melse\u001b[39;00m:\n\u001b[1;32m    330\u001b[0m     \u001b[38;5;28;01mif\u001b[39;00m timeout \u001b[38;5;241m>\u001b[39m \u001b[38;5;241m0\u001b[39m:\n\u001b[0;32m--> 331\u001b[0m         gotit \u001b[38;5;241m=\u001b[39m \u001b[43mwaiter\u001b[49m\u001b[38;5;241;43m.\u001b[39;49m\u001b[43macquire\u001b[49m\u001b[43m(\u001b[49m\u001b[38;5;28;43;01mTrue\u001b[39;49;00m\u001b[43m,\u001b[49m\u001b[43m \u001b[49m\u001b[43mtimeout\u001b[49m\u001b[43m)\u001b[49m\n\u001b[1;32m    332\u001b[0m     \u001b[38;5;28;01melse\u001b[39;00m:\n\u001b[1;32m    333\u001b[0m         gotit \u001b[38;5;241m=\u001b[39m waiter\u001b[38;5;241m.\u001b[39macquire(\u001b[38;5;28;01mFalse\u001b[39;00m)\n",
      "\u001b[0;31mKeyboardInterrupt\u001b[0m: "
     ]
    }
   ],
   "source": [
    "import dask.array as da\n",
    "a = da.random.normal(size=(1000, 1000), chunks=(500, 500))\n",
    "a.mean().compute()"
   ]
  },
  {
   "cell_type": "code",
   "execution_count": 31,
   "id": "87bf06c0-f487-4de3-9437-4802381dbb7f",
   "metadata": {
    "editable": true,
    "slideshow": {
     "slide_type": ""
    },
    "tags": []
   },
   "outputs": [],
   "source": [
    "import dask_ml.datasets\n",
    "import dask_ml.cluster\n",
    "import matplotlib.pyplot as plt\n"
   ]
  },
  {
   "cell_type": "code",
   "execution_count": 32,
   "id": "57deeee9-8686-4449-9ef7-9d2fd4213d6a",
   "metadata": {},
   "outputs": [
    {
     "data": {
      "text/html": [
       "<table>\n",
       "    <tr>\n",
       "        <td>\n",
       "            <table style=\"border-collapse: collapse;\">\n",
       "                <thead>\n",
       "                    <tr>\n",
       "                        <td> </td>\n",
       "                        <th> Array </th>\n",
       "                        <th> Chunk </th>\n",
       "                    </tr>\n",
       "                </thead>\n",
       "                <tbody>\n",
       "                    \n",
       "                    <tr>\n",
       "                        <th> Bytes </th>\n",
       "                        <td> 152.59 MiB </td>\n",
       "                        <td> 15.26 MiB </td>\n",
       "                    </tr>\n",
       "                    \n",
       "                    <tr>\n",
       "                        <th> Shape </th>\n",
       "                        <td> (10000000, 2) </td>\n",
       "                        <td> (1000000, 2) </td>\n",
       "                    </tr>\n",
       "                    <tr>\n",
       "                        <th> Dask graph </th>\n",
       "                        <td colspan=\"2\"> 10 chunks in 1 graph layer </td>\n",
       "                    </tr>\n",
       "                    <tr>\n",
       "                        <th> Data type </th>\n",
       "                        <td colspan=\"2\"> float64 numpy.ndarray </td>\n",
       "                    </tr>\n",
       "                </tbody>\n",
       "            </table>\n",
       "        </td>\n",
       "        <td>\n",
       "        <svg width=\"75\" height=\"170\" style=\"stroke:rgb(0,0,0);stroke-width:1\" >\n",
       "\n",
       "  <!-- Horizontal lines -->\n",
       "  <line x1=\"0\" y1=\"0\" x2=\"25\" y2=\"0\" style=\"stroke-width:2\" />\n",
       "  <line x1=\"0\" y1=\"12\" x2=\"25\" y2=\"12\" />\n",
       "  <line x1=\"0\" y1=\"24\" x2=\"25\" y2=\"24\" />\n",
       "  <line x1=\"0\" y1=\"36\" x2=\"25\" y2=\"36\" />\n",
       "  <line x1=\"0\" y1=\"48\" x2=\"25\" y2=\"48\" />\n",
       "  <line x1=\"0\" y1=\"60\" x2=\"25\" y2=\"60\" />\n",
       "  <line x1=\"0\" y1=\"72\" x2=\"25\" y2=\"72\" />\n",
       "  <line x1=\"0\" y1=\"84\" x2=\"25\" y2=\"84\" />\n",
       "  <line x1=\"0\" y1=\"96\" x2=\"25\" y2=\"96\" />\n",
       "  <line x1=\"0\" y1=\"108\" x2=\"25\" y2=\"108\" />\n",
       "  <line x1=\"0\" y1=\"120\" x2=\"25\" y2=\"120\" style=\"stroke-width:2\" />\n",
       "\n",
       "  <!-- Vertical lines -->\n",
       "  <line x1=\"0\" y1=\"0\" x2=\"0\" y2=\"120\" style=\"stroke-width:2\" />\n",
       "  <line x1=\"25\" y1=\"0\" x2=\"25\" y2=\"120\" style=\"stroke-width:2\" />\n",
       "\n",
       "  <!-- Colored Rectangle -->\n",
       "  <polygon points=\"0.0,0.0 25.412616514582485,0.0 25.412616514582485,120.0 0.0,120.0\" style=\"fill:#ECB172A0;stroke-width:0\"/>\n",
       "\n",
       "  <!-- Text -->\n",
       "  <text x=\"12.706308\" y=\"140.000000\" font-size=\"1.0rem\" font-weight=\"100\" text-anchor=\"middle\" >2</text>\n",
       "  <text x=\"45.412617\" y=\"60.000000\" font-size=\"1.0rem\" font-weight=\"100\" text-anchor=\"middle\" transform=\"rotate(-90,45.412617,60.000000)\">10000000</text>\n",
       "</svg>\n",
       "        </td>\n",
       "    </tr>\n",
       "</table>"
      ],
      "text/plain": [
       "dask.array<concatenate, shape=(10000000, 2), dtype=float64, chunksize=(1000000, 2), chunktype=numpy.ndarray>"
      ]
     },
     "execution_count": 32,
     "metadata": {},
     "output_type": "execute_result"
    }
   ],
   "source": [
    "X, y = dask_ml.datasets.make_blobs(n_samples=10000000,\n",
    "                                   chunks=1000000,\n",
    "                                   random_state=0,\n",
    "                                   centers=3,)\n",
    "X = X.persist()\n",
    "X"
   ]
  },
  {
   "cell_type": "code",
   "execution_count": 33,
   "id": "25575770-251a-4bff-a90e-690d243ef315",
   "metadata": {},
   "outputs": [
    {
     "ename": "CancelledError",
     "evalue": "('any-aggregate-7afa79d34a0042e356e08ad7c9910c51',)",
     "output_type": "error",
     "traceback": [
      "\u001b[0;31m---------------------------------------------------------------------------\u001b[0m",
      "\u001b[0;31mCancelledError\u001b[0m                            Traceback (most recent call last)",
      "Cell \u001b[0;32mIn[33], line 2\u001b[0m\n\u001b[1;32m      1\u001b[0m km \u001b[38;5;241m=\u001b[39m dask_ml\u001b[38;5;241m.\u001b[39mcluster\u001b[38;5;241m.\u001b[39mKMeans(n_clusters\u001b[38;5;241m=\u001b[39m\u001b[38;5;241m3\u001b[39m, init_max_iter\u001b[38;5;241m=\u001b[39m\u001b[38;5;241m2\u001b[39m, oversampling_factor\u001b[38;5;241m=\u001b[39m\u001b[38;5;241m10\u001b[39m)\n\u001b[0;32m----> 2\u001b[0m \u001b[43mkm\u001b[49m\u001b[38;5;241;43m.\u001b[39;49m\u001b[43mfit\u001b[49m\u001b[43m(\u001b[49m\u001b[43mX\u001b[49m\u001b[43m)\u001b[49m\n",
      "File \u001b[0;32m/srv/conda/envs/notebook/lib/python3.11/site-packages/dask_ml/cluster/k_means.py:205\u001b[0m, in \u001b[0;36mKMeans.fit\u001b[0;34m(self, X, y)\u001b[0m\n\u001b[1;32m    204\u001b[0m \u001b[38;5;28;01mdef\u001b[39;00m \u001b[38;5;21mfit\u001b[39m(\u001b[38;5;28mself\u001b[39m, X, y\u001b[38;5;241m=\u001b[39m\u001b[38;5;28;01mNone\u001b[39;00m):\n\u001b[0;32m--> 205\u001b[0m     X \u001b[38;5;241m=\u001b[39m \u001b[38;5;28;43mself\u001b[39;49m\u001b[38;5;241;43m.\u001b[39;49m\u001b[43m_check_array\u001b[49m\u001b[43m(\u001b[49m\u001b[43mX\u001b[49m\u001b[43m)\u001b[49m\n\u001b[1;32m    206\u001b[0m     labels, centroids, inertia, n_iter \u001b[38;5;241m=\u001b[39m k_means(\n\u001b[1;32m    207\u001b[0m         X,\n\u001b[1;32m    208\u001b[0m         \u001b[38;5;28mself\u001b[39m\u001b[38;5;241m.\u001b[39mn_clusters,\n\u001b[0;32m   (...)\u001b[0m\n\u001b[1;32m    216\u001b[0m         n_init\u001b[38;5;241m=\u001b[39m\u001b[38;5;28mself\u001b[39m\u001b[38;5;241m.\u001b[39mn_init,\n\u001b[1;32m    217\u001b[0m     )\n\u001b[1;32m    218\u001b[0m     \u001b[38;5;28mself\u001b[39m\u001b[38;5;241m.\u001b[39mcluster_centers_ \u001b[38;5;241m=\u001b[39m centroids\n",
      "File \u001b[0;32m/srv/conda/envs/notebook/lib/python3.11/site-packages/dask_ml/utils.py:563\u001b[0m, in \u001b[0;36m_timed.<locals>.fun_wrapper.<locals>.wraps\u001b[0;34m(*args, **kwargs)\u001b[0m\n\u001b[1;32m    560\u001b[0m \u001b[38;5;129m@functools\u001b[39m\u001b[38;5;241m.\u001b[39mwraps(f)\n\u001b[1;32m    561\u001b[0m \u001b[38;5;28;01mdef\u001b[39;00m \u001b[38;5;21mwraps\u001b[39m(\u001b[38;5;241m*\u001b[39margs, \u001b[38;5;241m*\u001b[39m\u001b[38;5;241m*\u001b[39mkwargs):\n\u001b[1;32m    562\u001b[0m     \u001b[38;5;28;01mwith\u001b[39;00m _timer(f\u001b[38;5;241m.\u001b[39m\u001b[38;5;18m__name__\u001b[39m, _logger\u001b[38;5;241m=\u001b[39mlogger, level\u001b[38;5;241m=\u001b[39mlevel):\n\u001b[0;32m--> 563\u001b[0m         results \u001b[38;5;241m=\u001b[39m \u001b[43mf\u001b[49m\u001b[43m(\u001b[49m\u001b[38;5;241;43m*\u001b[39;49m\u001b[43margs\u001b[49m\u001b[43m,\u001b[49m\u001b[43m \u001b[49m\u001b[38;5;241;43m*\u001b[39;49m\u001b[38;5;241;43m*\u001b[39;49m\u001b[43mkwargs\u001b[49m\u001b[43m)\u001b[49m\n\u001b[1;32m    564\u001b[0m     \u001b[38;5;28;01mreturn\u001b[39;00m results\n",
      "File \u001b[0;32m/srv/conda/envs/notebook/lib/python3.11/site-packages/dask_ml/cluster/k_means.py:196\u001b[0m, in \u001b[0;36mKMeans._check_array\u001b[0;34m(self, X)\u001b[0m\n\u001b[1;32m    193\u001b[0m     X \u001b[38;5;241m=\u001b[39m da\u001b[38;5;241m.\u001b[39mfrom_array(X, chunks\u001b[38;5;241m=\u001b[39m(\u001b[38;5;28mmax\u001b[39m(\u001b[38;5;241m1\u001b[39m, \u001b[38;5;28mlen\u001b[39m(X) \u001b[38;5;241m/\u001b[39m\u001b[38;5;241m/\u001b[39m cpu_count()), X\u001b[38;5;241m.\u001b[39mshape[\u001b[38;5;241m-\u001b[39m\u001b[38;5;241m1\u001b[39m]))\n\u001b[1;32m    195\u001b[0m bad \u001b[38;5;241m=\u001b[39m (da\u001b[38;5;241m.\u001b[39misnull(X)\u001b[38;5;241m.\u001b[39many(), da\u001b[38;5;241m.\u001b[39misinf(X)\u001b[38;5;241m.\u001b[39many())\n\u001b[0;32m--> 196\u001b[0m \u001b[38;5;28;01mif\u001b[39;00m \u001b[38;5;28many\u001b[39m(\u001b[38;5;241m*\u001b[39m\u001b[43mcompute\u001b[49m\u001b[43m(\u001b[49m\u001b[43mbad\u001b[49m\u001b[43m)\u001b[49m):\n\u001b[1;32m    197\u001b[0m     msg \u001b[38;5;241m=\u001b[39m (\n\u001b[1;32m    198\u001b[0m         \u001b[38;5;124m\"\u001b[39m\u001b[38;5;124mInput contains NaN, infinity or a value too large for \u001b[39m\u001b[38;5;124m\"\u001b[39m\n\u001b[1;32m    199\u001b[0m         \u001b[38;5;124m\"\u001b[39m\u001b[38;5;124mdtype(\u001b[39m\u001b[38;5;124m'\u001b[39m\u001b[38;5;124mfloat64\u001b[39m\u001b[38;5;124m'\u001b[39m\u001b[38;5;124m).\u001b[39m\u001b[38;5;124m\"\u001b[39m\n\u001b[1;32m    200\u001b[0m     )\n\u001b[1;32m    201\u001b[0m     \u001b[38;5;28;01mraise\u001b[39;00m \u001b[38;5;167;01mValueError\u001b[39;00m(msg)\n",
      "File \u001b[0;32m/srv/conda/envs/notebook/lib/python3.11/site-packages/dask/base.py:661\u001b[0m, in \u001b[0;36mcompute\u001b[0;34m(traverse, optimize_graph, scheduler, get, *args, **kwargs)\u001b[0m\n\u001b[1;32m    658\u001b[0m     postcomputes\u001b[38;5;241m.\u001b[39mappend(x\u001b[38;5;241m.\u001b[39m__dask_postcompute__())\n\u001b[1;32m    660\u001b[0m \u001b[38;5;28;01mwith\u001b[39;00m shorten_traceback():\n\u001b[0;32m--> 661\u001b[0m     results \u001b[38;5;241m=\u001b[39m \u001b[43mschedule\u001b[49m\u001b[43m(\u001b[49m\u001b[43mdsk\u001b[49m\u001b[43m,\u001b[49m\u001b[43m \u001b[49m\u001b[43mkeys\u001b[49m\u001b[43m,\u001b[49m\u001b[43m \u001b[49m\u001b[38;5;241;43m*\u001b[39;49m\u001b[38;5;241;43m*\u001b[39;49m\u001b[43mkwargs\u001b[49m\u001b[43m)\u001b[49m\n\u001b[1;32m    663\u001b[0m \u001b[38;5;28;01mreturn\u001b[39;00m repack([f(r, \u001b[38;5;241m*\u001b[39ma) \u001b[38;5;28;01mfor\u001b[39;00m r, (f, a) \u001b[38;5;129;01min\u001b[39;00m \u001b[38;5;28mzip\u001b[39m(results, postcomputes)])\n",
      "File \u001b[0;32m/srv/conda/envs/notebook/lib/python3.11/site-packages/distributed/client.py:2233\u001b[0m, in \u001b[0;36mClient._gather\u001b[0;34m(self, futures, errors, direct, local_worker)\u001b[0m\n\u001b[1;32m   2231\u001b[0m     \u001b[38;5;28;01melse\u001b[39;00m:\n\u001b[1;32m   2232\u001b[0m         \u001b[38;5;28;01mraise\u001b[39;00m exception\u001b[38;5;241m.\u001b[39mwith_traceback(traceback)\n\u001b[0;32m-> 2233\u001b[0m     \u001b[38;5;28;01mraise\u001b[39;00m exc\n\u001b[1;32m   2234\u001b[0m \u001b[38;5;28;01mif\u001b[39;00m errors \u001b[38;5;241m==\u001b[39m \u001b[38;5;124m\"\u001b[39m\u001b[38;5;124mskip\u001b[39m\u001b[38;5;124m\"\u001b[39m:\n\u001b[1;32m   2235\u001b[0m     bad_keys\u001b[38;5;241m.\u001b[39madd(key)\n",
      "\u001b[0;31mCancelledError\u001b[0m: ('any-aggregate-7afa79d34a0042e356e08ad7c9910c51',)"
     ]
    }
   ],
   "source": [
    "km = dask_ml.cluster.KMeans(n_clusters=3, init_max_iter=2, oversampling_factor=10)\n",
    "km.fit(X)"
   ]
  },
  {
   "cell_type": "code",
   "execution_count": null,
   "id": "7da3234f-0007-4908-a3db-53a417dbc59c",
   "metadata": {},
   "outputs": [],
   "source": [
    "fig, ax = plt.subplots()\n",
    "ax.scatter(X[::10000, 0], X[::10000, 1], marker='.', c=km.labels_[::10000],\n",
    "           cmap='viridis', alpha=0.25);\n"
   ]
  },
  {
   "cell_type": "code",
   "execution_count": 27,
   "id": "e805a14c-8220-49be-bb9c-1e920f61b758",
   "metadata": {},
   "outputs": [],
   "source": [
    "cluster.close()"
   ]
  },
  {
   "cell_type": "code",
   "execution_count": null,
   "id": "d44f01a0-64eb-4e62-a3d8-0ecf72141bdf",
   "metadata": {},
   "outputs": [],
   "source": []
  }
 ],
 "metadata": {
  "kernelspec": {
   "display_name": "Python 3 (ipykernel)",
   "language": "python",
   "name": "python3"
  },
  "language_info": {
   "codemirror_mode": {
    "name": "ipython",
    "version": 3
   },
   "file_extension": ".py",
   "mimetype": "text/x-python",
   "name": "python",
   "nbconvert_exporter": "python",
   "pygments_lexer": "ipython3",
   "version": "3.12.8"
  }
 },
 "nbformat": 4,
 "nbformat_minor": 5
}
