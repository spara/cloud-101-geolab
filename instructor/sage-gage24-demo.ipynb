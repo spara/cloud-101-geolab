{
 "cells": [
  {
   "cell_type": "markdown",
   "id": "a2495381",
   "metadata": {},
   "source": [
    "# SAGE GAGE 2024 SIG Demo:  \n",
    "![](https://www.earthscope.org/app/uploads/2024/04/2024-nsf-sage-gage-2000x750-1-jpg.webp)\n",
    "### GeoLab processing EarthScope GNSS $ARCO_{*1}$ data in $S3_{*2}$\n",
    "\n",
    "*1  ARCO =  Analysis ready, cloud optimized\n",
    "\n",
    "*2 S3 is AWS object storage (simple storage service)\n",
    "\n",
    "Goal:\n",
    "Demonstrate multiple methods for processing GNSS observation data in the SAGE/GAGE GeoLab in AWS\n",
    "\n",
    "Comparisons:\n",
    "1. Serial download and process: in GeoLab\n",
    "2. Serial read from S3 and process: in GeoLab\n",
    "3. Parallel read and process using Dask-Gateway in GeoLab\n"
   ]
  },
  {
   "cell_type": "code",
   "execution_count": 172,
   "id": "8d5da481",
   "metadata": {
    "jupyter": {
     "source_hidden": true
    }
   },
   "outputs": [],
   "source": [
    "import boto3 \n",
    "import time\n",
    "from datetime import datetime, timedelta\n",
    "import numpy as np\n",
    "import tiledb\n",
    "import os\n",
    "\n",
    "from dask.distributed import Client\n",
    "from dask.distributed import LocalCluster\n",
    "import dask, dask.array\n",
    "from dask_gateway import Gateway\n",
    "\n",
    "import matplotlib.pyplot as plt\n",
    "\n",
    "import requests\n",
    "from pathlib import Path\n",
    " \n",
    "from earthscope_sdk.auth.device_code_flow import DeviceCodeFlowSimple\n",
    "from earthscope_sdk.auth.auth_flow import NoTokensError\n",
    "\n",
    "def unix_time_millis(dt):\n",
    "    epoch = datetime.utcfromtimestamp(0)\n",
    "    return int((dt - epoch).total_seconds() * 1e3)\n",
    "\n",
    "def utc_time(dt):\n",
    "    epoch = datetime.utcfromtimestamp(0)\n",
    "    return timedelta(seconds=dt*1e-3) + epoch\n",
    "\n",
    "def get_es_file(url, directory_to_save_file='./', token_path='./'):\n",
    "    \"\"\"function to get earthscope data using es-sdk\n",
    "    modified from https://gitlab.com/earthscope/public/earthscope-sdk\n",
    "\n",
    "    Parameters\n",
    "    ----------\n",
    "    url : string\n",
    "        url of desired file at gage-data.earthscope.org\n",
    "    directory_to_save_file : str, optional\n",
    "        path of directory in which to save the file, by default cwd\n",
    "    token_path : str, optional\n",
    "        path of directory in which to save the token, by default './'\n",
    "    \"\"\"\n",
    "    # instantiate the device code flow subclass\n",
    "    device_flow = DeviceCodeFlowSimple(Path(token_path))\n",
    "    try:\n",
    "      # get access token from local path\n",
    "      device_flow.get_access_token_refresh_if_necessary()\n",
    "    except NoTokensError:\n",
    "      # if no token was found locally, do the device code flow\n",
    "      device_flow.do_flow()\n",
    "    token = device_flow.access_token\n",
    "\n",
    "    # request a file and provide the token in the Authorization header\n",
    "    file_name = Path(url).name\n",
    "\n",
    "    r = requests.get(url, headers={\"authorization\": f\"Bearer {token}\"})\n",
    "    if r.status_code == requests.codes.ok:\n",
    "      # save the file\n",
    "      with open(Path(Path(directory_to_save_file) / file_name), 'wb') as f:\n",
    "          for data in r:\n",
    "              f.write(data)\n",
    "    else:\n",
    "      #problem occured\n",
    "      print(f\"failure: {r.status_code}, {r.reason}\")"
   ]
  },
  {
   "cell_type": "code",
   "execution_count": null,
   "id": "16cd3791",
   "metadata": {
    "collapsed": true,
    "jupyter": {
     "outputs_hidden": true,
     "source_hidden": true
    }
   },
   "outputs": [],
   "source": [
    "%pip install georinex"
   ]
  },
  {
   "cell_type": "markdown",
   "id": "8fc3b457",
   "metadata": {},
   "source": [
    "## 1. Serial download RINEX and process 'Traditional Method'"
   ]
  },
  {
   "cell_type": "code",
   "execution_count": null,
   "id": "0a9f0816",
   "metadata": {},
   "outputs": [],
   "source": [
    "import georinex as gr #https://github.com/geospace-code/georinex/blob/main/Readme_OBS.md\n",
    "\n",
    "dl_time=[]\n",
    "pr_time=[]\n",
    "snr_li=[]\n",
    "date_li=[]\n",
    "year=2024\n",
    "\n",
    "start_t = time.time()\n",
    "for doy in np.arange(1,10):\n",
    "    #download\n",
    "    url='https://gage-data.earthscope.org/archive/gnss/rinex/obs/2024/%03d/p057%03d0.24d.Z' %(doy,doy)\n",
    "    print('downloading: ', url)\n",
    "    get_es_file(url, 'rinex_data')\n",
    "    \n",
    "    #process\n",
    "    fn='rinex_data/p057%03d0.24d.Z' %doy\n",
    "    # Use Georinex to convert Rinex _> Xarray Dataframe\n",
    "    obs = gr.load(fn, use='G', meas=['S1'])\n",
    "    g=obs['S1'].mean().values\n",
    "    snr_li+=[g]\n",
    "    date_li+=[datetime(year, 1, 1) + timedelta(days=int(doy - 1))]\n",
    "    #delete the file\n",
    "    os.remove(fn)\n",
    "    \n",
    "end_t = time.time()\n",
    "dl_time=end_t-start_t\n",
    "\n",
    "snr_rnx=np.mean(snr_li)\n",
    "\n",
    "# Plot results ##########\n",
    "plt.plot(date_li, snr_li)\n",
    "plt.xticks(rotation=45)\n",
    "plt.axhline(snr_rnx)\n",
    "plt.title('%s Days of L1C SNR Average  by reading from S3 in daily chunks \\n took %.1f seconds to download and process' %(len(date_li),dl_time))\n",
    "plt.show()"
   ]
  },
  {
   "cell_type": "markdown",
   "id": "243c378b",
   "metadata": {},
   "source": [
    "## What is this doing?\n",
    "\n",
    "1. Downloading GNSS Observations\n",
    "![](https://customersupport.septentrio.com/servlet/rtaImage?eid=ka04y000000CyrT&feoid=00Nf3000002xZ3u&refid=0EMf3000000qixY)\n",
    "\n",
    "(credit: Septentrio)\n",
    "\n",
    "2. Community bespoke python decoder: GeoRinex\n",
    "   \n",
    "![](../images/gr.png)\n",
    "\n",
    "3. Using Xarray to slice/average\n",
    "   \n",
    "![](https://docs.xarray.dev/en/stable/_static/Xarray_Logo_RGB_Final.svg)\n"
   ]
  },
  {
   "cell_type": "markdown",
   "id": "2fe15492",
   "metadata": {},
   "source": [
    "# ARCO GNSS Objects:  Read from TileDB in S3"
   ]
  },
  {
   "cell_type": "code",
   "execution_count": 18,
   "id": "17beea7e",
   "metadata": {
    "collapsed": true,
    "jupyter": {
     "outputs_hidden": true
    }
   },
   "outputs": [
    {
     "name": "stdout",
     "output_type": "stream",
     "text": [
      "Attempting to automatically open the SSO authorization page in your default browser.\n",
      "If the browser does not open or you wish to use a different device to authorize this request, open the following URL:\n",
      "\n",
      "https://device.sso.us-east-2.amazonaws.com/\n",
      "\n",
      "Then enter the code:\n",
      "\n",
      "HRRB-BMCS\n",
      "Successfully logged into Start URL: https://d-9a672d0f17.awsapps.com/start#\n"
     ]
    }
   ],
   "source": [
    "!aws sso login --profile es-dev"
   ]
  },
  {
   "cell_type": "code",
   "execution_count": 19,
   "id": "34a93d06",
   "metadata": {
    "jupyter": {
     "source_hidden": true
    }
   },
   "outputs": [],
   "source": [
    "session=boto3.Session(profile_name='es-dev')\n",
    "credentials=session.get_credentials()\n",
    "credentials=credentials.get_frozen_credentials()\n",
    "\n",
    "tdb_config={\"vfs.s3.region\": \"us-east-2\", \"sm.io_concurrency_level\": 12, \n",
    "                                              \"vfs.s3.aws_access_key_id\":credentials.access_key, \"vfs.s3.aws_secret_access_key\":credentials.secret_key,\n",
    "                                             \"vfs.s3.aws_session_token\":credentials.token}"
   ]
  },
  {
   "cell_type": "code",
   "execution_count": 189,
   "id": "0c4858db",
   "metadata": {},
   "outputs": [],
   "source": [
    "pnum='P057'  #using datasources-api https://datasources-api.dev.earthscope.org/docs#/Stream/Stream-find_streams\n",
    "edid=\"01GVDXYKWXCFP2N5WAJN4CX36F\"\n",
    "year=2024\n",
    "start_time='2024-05-11'\n",
    "duration='12' #hours  \n",
    "constell= 0 #'GPS'\n",
    "obs_code=12611 #L1C   int(12611).to_bytes(2, 'big').decode(\"utf-8\")\n",
    "\n",
    "bucket='s3://repository-stage-us-east-2-mlmoghi3ooss/gnss/obs/tiledb/'\n",
    "\n",
    "uri=bucket+edid\n",
    "\n",
    "start_date=datetime.fromisoformat(start_time)\n",
    "durationz=timedelta(hours=int(duration)) #1hour\n",
    "end_date=start_date+durationz"
   ]
  },
  {
   "cell_type": "code",
   "execution_count": null,
   "id": "922a650f",
   "metadata": {},
   "outputs": [],
   "source": [
    "%%time\n",
    "# With pandas\n",
    "with tiledb.open(uri,mode=\"r\", config=tdb_config,) as A:\n",
    "    # note that array indexes are half-open like NumPy\n",
    "    df = A.df[unix_time_millis(start_date): unix_time_millis(end_date),constell,:,obs_code]"
   ]
  },
  {
   "cell_type": "code",
   "execution_count": null,
   "id": "ded696ff",
   "metadata": {},
   "outputs": [],
   "source": [
    "print(df.shape)\n",
    "df.head()"
   ]
  },
  {
   "cell_type": "code",
   "execution_count": null,
   "id": "9eb67e1e",
   "metadata": {},
   "outputs": [],
   "source": [
    "df[df.sat==3].snr.plot()"
   ]
  },
  {
   "cell_type": "markdown",
   "id": "7ceaf0f5",
   "metadata": {},
   "source": [
    "# 2. Serial read from S3 and process: in GeoLab\n",
    "\n",
    "Our second strategy..."
   ]
  },
  {
   "cell_type": "code",
   "execution_count": null,
   "id": "214b0e0b",
   "metadata": {},
   "outputs": [],
   "source": [
    "%%time\n",
    "start_t = time.time()\n",
    "\n",
    "snr_li=[]\n",
    "date_li=[]\n",
    "for doy in np.arange(1,51):\n",
    "    start=datetime(year, 1, 1) + timedelta(days=int(doy - 1))\n",
    "    date_li+=[start]\n",
    "    end=start+timedelta(days=1)\n",
    "    start=unix_time_millis(start)\n",
    "    end=unix_time_millis(end)\n",
    "  \n",
    "    with tiledb.open(uri,mode=\"r\", config=tdb_config,) as A:\n",
    "        df=A.df[slice(int(start), int(end)),constell,:,obs_code]['snr']\n",
    "        snr_li+=[df.mean()]\n",
    "        \n",
    "for_loop=np.nanmean(np.array(snr_li))\n",
    "\n",
    "end_t = time.time()\n",
    "for_loop_t=end_t - start_t\n",
    "\n",
    "# Plot results\n",
    "plt.plot(date_li, snr_li)\n",
    "plt.axhline(for_loop)\n",
    "plt.xticks(rotation=45)\n",
    "plt.title('%s Days of L1C SNR Average \\n by reading from S3 in daily chunks took %.1f seconds' %(len(date_li),for_loop_t))\n",
    "plt.show()"
   ]
  },
  {
   "cell_type": "markdown",
   "id": "31eeb28e",
   "metadata": {},
   "source": [
    "![](ar.png)\n",
    "credit: R. Abernathy/ Pangeo Project\n",
    "\n",
    "https://speakerdeck.com/rabernat/beyond-fair-what-data-infrastructure-does-open-science-need?slide=33"
   ]
  },
  {
   "cell_type": "markdown",
   "id": "8bc0e5a9",
   "metadata": {},
   "source": [
    "![](co.png)\n",
    "credit: R. Abernathy/ Pangeo Project\n",
    "\n",
    "https://speakerdeck.com/rabernat/beyond-fair-what-data-infrastructure-does-open-science-need?slide=33"
   ]
  },
  {
   "cell_type": "markdown",
   "id": "6ca650c1",
   "metadata": {},
   "source": [
    "# 3. Parallel read and process using Dask-Gateway in GeoLab\n",
    "\n",
    "our final comparison demo"
   ]
  },
  {
   "cell_type": "code",
   "execution_count": null,
   "id": "a3ea5cfa",
   "metadata": {},
   "outputs": [],
   "source": [
    "gateway = Gateway()  # Uses values configured for the 2i2c Dask hub (recommended)\n",
    "\n",
    "options = gateway.cluster_options()\n",
    "options"
   ]
  },
  {
   "cell_type": "code",
   "execution_count": null,
   "id": "88b90d04",
   "metadata": {},
   "outputs": [],
   "source": [
    "# Create and scale gateway cluster\n",
    "cluster = gateway.new_cluster(options)\n",
    "cluster"
   ]
  },
  {
   "cell_type": "code",
   "execution_count": null,
   "id": "7ac0e64b",
   "metadata": {},
   "outputs": [],
   "source": [
    "#Connect to the gateway cluster\n",
    "client = cluster.get_client()\n",
    "client"
   ]
  },
  {
   "cell_type": "code",
   "execution_count": 194,
   "id": "4e4bcea6",
   "metadata": {},
   "outputs": [],
   "source": [
    "# Get schema and Non-empty domain of Tdb object:\n",
    "with tiledb.open(uri,mode=\"r\", config=tdb_config,) as A:\n",
    "    ned=A.nonempty_domain()\n",
    "    #print(A.schema)"
   ]
  },
  {
   "cell_type": "markdown",
   "id": "bf5d8dec",
   "metadata": {},
   "source": [
    "# What is this doing?\n",
    "\n",
    "![](https://docs.2i2c.org/_images/scalable_research_hub.png)\n",
    "\n",
    "Credit: 2i2c\n",
    "\n",
    "https://docs.2i2c.org/about/distributions/research/"
   ]
  },
  {
   "cell_type": "code",
   "execution_count": null,
   "id": "e6a7d550",
   "metadata": {},
   "outputs": [],
   "source": [
    "start_t = time.time()\n",
    "# This produces an array slice\n",
    "def slice_tiledb(path, slc):\n",
    "    with tiledb.open(uri,mode=\"r\", config=tdb_config,) as A:\n",
    "        return A[slc,0,:,12611]['snr']\n",
    "       \n",
    "\n",
    "# Partition the array into delayed slices\n",
    "chunk = 43200000*4 # tile size?\n",
    "delayed_slices = list(\n",
    "    dask.delayed(slice_tiledb)(uri, slice(int(start), int(start+chunk))) for \n",
    "                               start in \n",
    "                               np.arange(ned[0][0],ned[0][1]-chunk,step=chunk)) #-86400*1e3\n",
    "\n",
    "# This creates a Dask array from the delayed slices\n",
    "darray = dask.array.concatenate(\n",
    "    dask.array.from_delayed(x,\n",
    "                            shape=(chunk,), dtype=np.float64)\n",
    "                            for x in delayed_slices)\n",
    "\n",
    "#Everything up until here is lazy - nothing is really computed\n",
    "\n",
    "# This triggers the entire computation\n",
    "#darray.persist()\n",
    "gw_cluster = darray.mean().compute()\n",
    "\n",
    "end_t = time.time()\n",
    "gw_cluster_t=end_t - start_t\n",
    "\n",
    "print('Object start date: ',utc_time(ned[0][0]))\n",
    "print('Object end date: ',utc_time(ned[0][1]))\n",
    "\n",
    "days_p=(ned[0][1]-ned[0][0])/(86400e3)\n",
    "print('Processing %.01f days took %.01f seconds' %(days_p,gw_cluster_t))"
   ]
  },
  {
   "cell_type": "code",
   "execution_count": null,
   "id": "28caad7b",
   "metadata": {},
   "outputs": [],
   "source": [
    "fig, ax = plt.subplots(figsize=(8,4))\n",
    "plt.bar([\"Download and process: in GeoLab\",\n",
    "        \"S3 and process: in GeoLab\",\"Dask-Gateway in GeoLab\"],\n",
    "        [9,50,440])\n",
    "plt.title(\"Amount of Days of GNSS Data Processed in about 30 seconds\")\n",
    "plt.xticks(rotation=90)\n",
    "plt.show()"
   ]
  },
  {
   "cell_type": "markdown",
   "id": "44c8155f",
   "metadata": {},
   "source": [
    "## Takeaways:\n",
    "\n",
    "1. Reading from s3 doesn't require local copies of data flying around\n",
    "    * imagine slow internet\n",
    "    * FAIR data principles\n",
    "3. **Analysis Ready** data doesn't require maintenance of bespoke data format decoders (georinex, obspy/mseed, etc)\n",
    "    * open source libraries built upon mature data containers\n",
    "5. A cloud-hosted notebook compute interface adjacent to the cloud data provides effecient data discovery and exploratory analysis\n",
    "6. A distributed compute infrastructure (dask-gateway) adjacent to ARCO data supports high throughput, massively parallelizable workflows\n",
    "    * large scale data analysis\n",
    "    * Machine learning + deep learning"
   ]
  },
  {
   "cell_type": "code",
   "execution_count": 197,
   "id": "11309a9b",
   "metadata": {},
   "outputs": [],
   "source": [
    "cluster.close()"
   ]
  },
  {
   "cell_type": "code",
   "execution_count": null,
   "id": "0fe85665",
   "metadata": {},
   "outputs": [],
   "source": []
  }
 ],
 "metadata": {
  "kernelspec": {
   "display_name": "Python 3 (ipykernel)",
   "language": "python",
   "name": "python3"
  },
  "language_info": {
   "codemirror_mode": {
    "name": "ipython",
    "version": 3
   },
   "file_extension": ".py",
   "mimetype": "text/x-python",
   "name": "python",
   "nbconvert_exporter": "python",
   "pygments_lexer": "ipython3",
   "version": "3.11.11"
  }
 },
 "nbformat": 4,
 "nbformat_minor": 5
}
