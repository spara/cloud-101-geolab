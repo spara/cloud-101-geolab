{
 "cells": [
  {
   "cell_type": "markdown",
   "id": "92a9c010",
   "metadata": {},
   "source": [
    "# Exercise: Working with waveforms"
   ]
  },
  {
   "cell_type": "markdown",
   "id": "40b1becd",
   "metadata": {},
   "source": [
    "## Download earthquake data\n",
    "\n",
    "When writing a program, consider what packages we will need to accomplish the tasks. To download data, we'll need a client function to find and retrieve seismic data. Also does is there a requirement for the data to be formatted in a specific way? Start your program with the tools you'll need."
   ]
  },
  {
   "cell_type": "code",
   "execution_count": null,
   "id": "cfcd3d6d",
   "metadata": {},
   "outputs": [],
   "source": []
  },
  {
   "cell_type": "markdown",
   "id": "cfbcd3a1",
   "metadata": {},
   "source": [
    "You can find an earthquake by searching the [USGS Earthquake Browser](https://earthquake.usgs.gov/earthquakes/map/) to find a recent earthquake. USGS also provides a [customizable search](https://earthquake.usgs.gov/earthquakes/search/) if you are searching for a specific event. To download data using obspy, you'll need several parameters. The initial search provides the event time which can be used for creating start and end times.\n",
    "\n",
    "> Hint: Convert the event time to UTCDateTime to get the data.\n",
    "\n",
    "We want to find the closest station to the earthquake to get the `network`,`station`, and `location`. There are many networks, but we can use [IU](https://ds.iris.edu/mda/IU/) the Global Seismic Network. To find the closest station, open the [IRIS Gmap](https://ds.iris.edu/gmap/) and enter `IU` in the **NetworK** form field, the select **Update Map**.\n",
    "\n",
    "![](../../images/iris-gmap.png)\n",
    "\n",
    "Find the station closest to the earthquake on the map and select it.\n",
    "\n",
    "![](../../images/station-popup.png)\n",
    "\n",
    "Select **More Information** in the popup to get station metadata. The station metadata page list the available instruments, locations, and channels. Use this information to get waveforms for the earthquake.\n",
    "\n",
    "![](../../images/station-metadata.png)\n",
    "\n"
   ]
  },
  {
   "cell_type": "code",
   "execution_count": null,
   "id": "3b191a37",
   "metadata": {},
   "outputs": [],
   "source": []
  },
  {
   "cell_type": "markdown",
   "id": "8591c3d4",
   "metadata": {},
   "source": [
    "## Remove the instrument response\n",
    "\n",
    "Convert the data from the time domain to the frequency domain using the `remove_respond` method from the stream. Try converting the data to velocity, acceleration, displacement, or all three. You can also try different streams, locations, and channels. Plot the results and compare them.\n",
    "\n",
    "> Hint: Make copies of the original data before performing operations on the data\n"
   ]
  },
  {
   "cell_type": "code",
   "execution_count": null,
   "id": "da832be9",
   "metadata": {},
   "outputs": [],
   "source": []
  },
  {
   "cell_type": "markdown",
   "id": "e07c5acb",
   "metadata": {},
   "source": [
    "## Filter\n",
    "\n",
    "Apply a filter to the data. Plot the raw data and the filtered data to compare the results."
   ]
  },
  {
   "cell_type": "code",
   "execution_count": null,
   "id": "16ae0284",
   "metadata": {},
   "outputs": [],
   "source": []
  },
  {
   "cell_type": "markdown",
   "id": "bcfe8073",
   "metadata": {},
   "source": [
    "## Trim\n",
    "\n",
    "Trim the data to focus in on the event."
   ]
  },
  {
   "cell_type": "code",
   "execution_count": null,
   "id": "0d4f91bd",
   "metadata": {},
   "outputs": [],
   "source": []
  },
  {
   "cell_type": "markdown",
   "id": "e308ab44",
   "metadata": {},
   "source": [
    "## Change the Sampling Rate\n",
    "\n",
    "Using the trimmed data, apply different sampling methods and compare the results by plotting them."
   ]
  },
  {
   "cell_type": "code",
   "execution_count": null,
   "id": "2b067b2e",
   "metadata": {},
   "outputs": [],
   "source": []
  }
 ],
 "metadata": {
  "kernelspec": {
   "display_name": "Python 3 (ipykernel)",
   "language": "python",
   "name": "python3"
  },
  "language_info": {
   "codemirror_mode": {
    "name": "ipython",
    "version": 3
   },
   "file_extension": ".py",
   "mimetype": "text/x-python",
   "name": "python",
   "nbconvert_exporter": "python",
   "pygments_lexer": "ipython3",
   "version": "3.11.11"
  }
 },
 "nbformat": 4,
 "nbformat_minor": 5
}
