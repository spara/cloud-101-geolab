{
 "cells": [
  {
   "cell_type": "markdown",
   "metadata": {},
   "source": [
    "# GNSS Download and Processing\n",
    "\n",
    "In this exercise you will learn the following:\n",
    "\n",
    "- authenticate to the GAGE file server\n",
    "- discover data\n",
    "- read RINEX files with georinex\n",
    "- process data \n",
    "- plot the results\n",
    "\n",
    "The following code block sets up the program by importing modules."
   ]
  },
  {
   "cell_type": "code",
   "execution_count": null,
   "metadata": {},
   "outputs": [],
   "source": [
    "import time\n",
    "from datetime import datetime, timedelta\n",
    "import numpy as np\n",
    "import os, json\n",
    "\n",
    "import matplotlib.pyplot as plt\n",
    "\n",
    "import requests\n",
    "from pathlib import Path\n",
    " \n",
    "from earthscope_sdk.auth.device_code_flow import DeviceCodeFlowSimple\n",
    "from earthscope_sdk.auth.auth_flow import NoTokensError\n"
   ]
  },
  {
   "cell_type": "markdown",
   "metadata": {
    "vscode": {
     "languageId": "plaintext"
    }
   },
   "source": [
    "The GAGE file server requires authentication. We create two functions, one to perform the authentication and another to retrieve a file."
   ]
  },
  {
   "cell_type": "code",
   "execution_count": null,
   "metadata": {},
   "outputs": [],
   "source": [
    "def get_token(token_path='./'):\n",
    "  \"\"\"function to get earthscope data using es-sdk\n",
    "    modified from https://gitlab.com/earthscope/public/earthscope-sdk\n",
    "\n",
    "    Parameters\n",
    "    ----------\n",
    "    url : string\n",
    "        url of desired file at gage-data.earthscope.org\n",
    "    directory_to_save_file : str, optional\n",
    "        path of directory in which to save the file, by default cwd\n",
    "    token_path : str, optional\n",
    "        path of directory in which to save the token, by default './'\n",
    "    \"\"\"\n",
    "  # instantiate the device code flow subclass\n",
    "  device_flow = DeviceCodeFlowSimple(Path(token_path))\n",
    "  try:\n",
    "    # get access token from local path\n",
    "    device_flow.get_access_token_refresh_if_necessary()\n",
    "  except NoTokensError:\n",
    "    # if no token was found locally, do the device code flow\n",
    "    device_flow.do_flow()\n",
    "  token = device_flow.access_token\n",
    "\n",
    "  return token\n",
    "\n",
    "def get_es_file(url, directory_to_save_file='./', token_path='./'):\n",
    "\n",
    "  # get authorization Bearer token\n",
    "  token = get_token()\n",
    "\n",
    "  # request a file and provide the token in the Authorization header\n",
    "  file_name = Path(url).name\n",
    "\n",
    "  r = requests.get(url, headers={\"authorization\": f\"Bearer {token}\"})\n",
    "  if r.status_code == requests.codes.ok:\n",
    "    # save the file\n",
    "    with open(Path(Path(directory_to_save_file) / file_name), 'wb') as f:\n",
    "        for data in r:\n",
    "            f.write(data)\n",
    "  else:\n",
    "    #problem occured\n",
    "    print(f\"failure: {r.status_code}, {r.reason}\")"
   ]
  },
  {
   "cell_type": "markdown",
   "metadata": {},
   "source": [
    "***Stretch Goal***\n",
    "If files are downloaded in parallel, it can reduce the time for the program to complete. Can you create a new function that implements a parallel download? Look at this [solution](https://opensourceoptions.com/use-python-to-download-multiple-files-or-urls-in-parallel/) from OpenSource Options. Add a code cell below with your code."
   ]
  },
  {
   "cell_type": "code",
   "execution_count": null,
   "metadata": {},
   "outputs": [],
   "source": [
    "# Parallel download\n",
    "\n",
    "from multiprocessing import cpu_count\n",
    "from multiprocessing.pool import ThreadPool\n",
    "\n",
    "## add your code"
   ]
  },
  {
   "cell_type": "markdown",
   "metadata": {},
   "source": [
    "## Finding Data Programatically with Python\n",
    "\n",
    "You can find data for a location by using EarthScope's API and the [GNSS Station Radial Search](https://api.earthscope.org/beta/docs#get-/discover/gnss/radial) interface. If we're looking for a station near Portales, New Mexico we can use the coordinates for Portales to find stations. We can use the web interface to find stations.\n",
    "\n",
    "![](../../images/gnss_radial_search.png)\n",
    "\n",
    "The web interface can show the curl request and we can use that to build a request in Python.\n",
    "\n",
    ">curl -X GET \"https://api.earthscope.org/beta/discover/gnss/radial?latitude=34.147255&longitude=-103.4073&distance=50&tier=station&facility=earthscope&with_information=true\" \\\n",
    " -H 'accept: application/json'\\\n",
    "-H 'authorization: Bearer aaaabbbbbccccc\n"
   ]
  },
  {
   "cell_type": "code",
   "execution_count": null,
   "metadata": {},
   "outputs": [],
   "source": [
    "# complete this code block by getting the bearer token\n",
    "\n",
    "base_url = \"https://api.earthscope.org/beta/discover/gnss/radial?\"\n",
    "\n",
    "latitude = 34.147255\n",
    "longitude=-103.4073\n",
    "distance=50\n",
    "tier=\"station\"\n",
    "facility=\"earthscope\"\n",
    "with_information=\"true\"\n",
    "\n",
    "params = \"latitude={}&longitude={}&distance={}&tier={}&facility={}&with_information={}\".format(latitude, longitude, distance, tier, facility, with_information)\n",
    "\n",
    "url = base_url+params\n",
    "\n",
    "token = get_token()\n",
    "\n",
    "response = requests.get(url, headers={\"authorization\": f\"Bearer {token}\"})"
   ]
  },
  {
   "cell_type": "markdown",
   "metadata": {},
   "source": [
    "The api returns the response in JSON. Parse the JSON to get the station name."
   ]
  },
  {
   "cell_type": "code",
   "execution_count": null,
   "metadata": {},
   "outputs": [],
   "source": [
    "data = response.json()\n",
    "json_formatted = json.dumps(data, indent=2)\n",
    "print(json_formatted)\n"
   ]
  },
  {
   "cell_type": "code",
   "execution_count": null,
   "metadata": {},
   "outputs": [],
   "source": [
    "# get the station name(s) from 'pnum' key\n",
    "value = data[0]['pnum']\n",
    "station = value.split(':')[1].lower()\n",
    "print(station)"
   ]
  },
  {
   "cell_type": "markdown",
   "metadata": {},
   "source": [
    "With the station identifier, we can generate the urls to download the data. The url for downloading GNSS RINEX observatio data takes this form\n",
    "\n",
    "```\n",
    "https://gage-data.earthscope.org/archive/gnss/rinex/obs/<year>/<day>/<station><day>0.<two digit year>d.Z\n",
    "```\n",
    "\n",
    "https://gage-data.earthscope.org/archive/gnss/rinex/obs/2025/001/p0380010.25d.Z\n",
    "\n",
    "**NOTE:**\n",
    "\n",
    "- `day` is zero padded\n",
    "- `d.Z` is for Hatakana compressed file with \n",
    "\n",
    "Write a function to download daily data from a station and get the mean SNR value for each day. To do this, we will use [georinex](https://github.com/geospace-code/georinex/tree/main), a package for reading and processing RINEX files."
   ]
  },
  {
   "cell_type": "code",
   "execution_count": null,
   "metadata": {},
   "outputs": [],
   "source": [
    "# install georinex  \n",
    "%pip install georinex"
   ]
  },
  {
   "cell_type": "markdown",
   "metadata": {},
   "source": [
    "First, we'll instantiate lists to hold values for download time and the time to process a file. Two arrays to hold the mean SNR values and the dates are created. Finally, we'll set the year of interest."
   ]
  },
  {
   "cell_type": "code",
   "execution_count": null,
   "metadata": {},
   "outputs": [],
   "source": [
    "# a list to hold the time to download a file\n",
    "dl_time=[]\n",
    "\n",
    "# a list to hold the time to process a file\n",
    "pr_time=[]\n",
    "\n",
    "# lists to hold SNR values and the date for each value\n",
    "snr_list=[]\n",
    "date_list=[]\n",
    "\n",
    "# year and starting day to download\n",
    "year=2025\n",
    "day = 1\n"
   ]
  },
  {
   "cell_type": "markdown",
   "metadata": {},
   "source": [
    "The `download_process` function downloads the first 10 days of RINEX files for the year. The files are written to the `rinex` directory which must be present.\n",
    "\n",
    "Georinex reads RINEX observation data in [xarray](https://docs.xarray.dev/en/stable/index.html#) which makes it simple to extract data from multi-dimensional arrays using labels.\n",
    "\n",
    "```python\n",
    "obs = gr.load(fn, use='G', meas=['S1'])\n",
    "```\n",
    "\n",
    "[![](../../images/satellite_identifier.png)](https://files.igs.org/pub/data/format/rinex305.pdf)\n",
    "\n",
    "[![](../../images/rinex_2char_code.png)](https://www.ngs.noaa.gov/CORS/RINEX211.txt)\n",
    "\n",
    "The statement above reads the file (`fn`), and extracts the L1 data (`meas=['S1']`) from GPS data (`use='G'`). The mean is calculated for all observations for the day and added to `snr_list`.\n",
    "\n",
    "```python\n",
    "g=obs['S1'].mean().values\n",
    "snr_li+=[g]\n",
    "```"
   ]
  },
  {
   "cell_type": "code",
   "execution_count": null,
   "metadata": {},
   "outputs": [],
   "source": [
    "import georinex as gr #https://github.com/geospace-code/georinex/blob/main/Readme_OBS.md\n",
    "\n",
    "def download_process(doy, year, station, snr_list, date_list):\n",
    "    two_digit_year=str(year)[2:] #converts integer to string and slices the last characters\n",
    "    for doy in np.arange(1,10):\n",
    "        #download\n",
    "        url='https://gage-data.earthscope.org/archive/gnss/rinex/obs/%d/%03d/%s%03d0.%sd.Z' %(year,doy,station,doy,two_digit_year)\n",
    "        print('downloading: ', url)\n",
    "        get_es_file(url, 'rinex_data')\n",
    "        \n",
    "        #process\n",
    "        fn='rinex_data/%s%03d0.%sd.Z' %(station, doy, two_digit_year)\n",
    "        # Use Georinex to convert Rinex _> Xarray Dataframe\n",
    "        obs = gr.load(fn, use='G', meas=['S1'])\n",
    "        g=obs['S1'].mean().values\n",
    "        snr_list+=[g]\n",
    "        date_list+=[datetime(year, 1, 1) + timedelta(days=int(doy - 1))]\n",
    "        #delete the file\n",
    "        os.remove(fn)\n",
    "        "
   ]
  },
  {
   "cell_type": "markdown",
   "metadata": {},
   "source": [
    "Call the `download_process` function and plot the results. Note that `snr_list` and `date_list` are passed as arguments because the function doesn't have access to them in it's scope."
   ]
  },
  {
   "cell_type": "code",
   "execution_count": null,
   "metadata": {},
   "outputs": [],
   "source": [
    "start_t = time.time()\n",
    "download_process(day, year, station, snr_list, date_list)\n",
    "end_t = time.time()\n",
    "dl_time=end_t-start_t\n",
    "\n",
    "snr_rnx=np.mean(snr_list)"
   ]
  },
  {
   "cell_type": "markdown",
   "metadata": {},
   "source": [
    "Plot the results."
   ]
  },
  {
   "cell_type": "code",
   "execution_count": null,
   "metadata": {},
   "outputs": [],
   "source": [
    "# Plot results ##########\n",
    "plt.plot(date_list, snr_list)\n",
    "plt.xticks(rotation=45)\n",
    "plt.axhline(snr_rnx)\n",
    "plt.title('%s Days of L1C SNR Average  by reading from S3 in daily chunks \\n took %.1f seconds to download and process' %(len(date_list),dl_time))\n",
    "plt.show()"
   ]
  },
  {
   "cell_type": "markdown",
   "metadata": {},
   "source": [
    "It's good practice to remove authentication tokens when you are finished."
   ]
  },
  {
   "cell_type": "code",
   "execution_count": null,
   "metadata": {},
   "outputs": [],
   "source": [
    "token_fn = \"./sso_tokens.json\"\n",
    "os.remove(token_fn)"
   ]
  },
  {
   "cell_type": "code",
   "execution_count": null,
   "metadata": {},
   "outputs": [],
   "source": []
  }
 ],
 "metadata": {
  "kernelspec": {
   "display_name": "Python 3 (ipykernel)",
   "language": "python",
   "name": "python3"
  },
  "language_info": {
   "codemirror_mode": {
    "name": "ipython",
    "version": 3
   },
   "file_extension": ".py",
   "mimetype": "text/x-python",
   "name": "python",
   "nbconvert_exporter": "python",
   "pygments_lexer": "ipython3",
   "version": "3.11.11"
  }
 },
 "nbformat": 4,
 "nbformat_minor": 4
}
