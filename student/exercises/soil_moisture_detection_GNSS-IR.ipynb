{
 "cells": [
  {
   "cell_type": "markdown",
   "metadata": {},
   "source": [
    "# Soil Moisture Detection with GNSS-IR\n",
    "\n",
    "This exercise is adapted from [Soil Moisture in Portales, New Mexico\n",
    "Station Name: p038](https://github.com/kristinemlarson/gnssrefl/blob/master/notebooks/use-cases/Soil_Moisture/p038-portales_new_mexico.ipynb). The code was updated to reflect changes in the [gnssrefl package](https://pypi.org/project/gnssrefl/).\n",
    "\n",
    "Getting data from EarthScope's GAGE archive requires authentication. We start with a function to authenticate and download data."
   ]
  },
  {
   "cell_type": "code",
   "execution_count": null,
   "metadata": {},
   "outputs": [],
   "source": [
    "import os\n",
    "import requests\n",
    "from pathlib import Path\n",
    " \n",
    "from earthscope_sdk.auth.device_code_flow import DeviceCodeFlowSimple\n",
    "from earthscope_sdk.auth.auth_flow import NoTokensError\n",
    "\n",
    "def get_es_file(url, directory_to_save_file='./', token_path='./'):\n",
    "    \"\"\"function to get earthscope data using es-sdk\n",
    "    modified from https://gitlab.com/earthscope/public/earthscope-sdk\n",
    "\n",
    "    Parameters\n",
    "    ----------\n",
    "    url : string\n",
    "        url of desired file at gage-data.earthscope.org\n",
    "    directory_to_save_file : str, optional\n",
    "        path of directory in which to save the file, by default cwd\n",
    "    token_path : str, optional\n",
    "        path of directory in which to save the token, by default './'\n",
    "    \"\"\"\n",
    "    # instantiate the device code flow subclass\n",
    "    device_flow = DeviceCodeFlowSimple(Path(token_path))\n",
    "    try:\n",
    "      # get access token from local path\n",
    "      device_flow.get_access_token_refresh_if_necessary()\n",
    "    except NoTokensError:\n",
    "      # if no token was found locally, do the device code flow\n",
    "      device_flow.do_flow()\n",
    "    token = device_flow.access_token\n",
    "\n",
    "    # request a file and provide the token in the Authorization header\n",
    "    file_name = Path(url).name\n",
    "\n",
    "    r = requests.get(url, headers={\"authorization\": f\"Bearer {token}\"})\n",
    "    if r.status_code == requests.codes.ok:\n",
    "      # save the file\n",
    "      with open(Path(Path(directory_to_save_file) / file_name), 'wb') as f:\n",
    "          for data in r:\n",
    "              f.write(data)\n",
    "    else:\n",
    "      #problem occured\n",
    "      print(f\"failure: {r.status_code}, {r.reason}\")"
   ]
  },
  {
   "cell_type": "markdown",
   "metadata": {},
   "source": [
    "## Downloading data\n",
    "\n",
    "The [EarthScope Data Server](https://data.earthscope.org/archive/) houses the geodetic data archive.\n",
    "\n",
    "P038 was a Plate Boundary Observatory site with high-precision instrumentation capable of detecting motion to a sub-centimeter level. We will download data from 2017 as a test case.  Note that we are using highrate 1-Hz data."
   ]
  },
  {
   "cell_type": "code",
   "execution_count": null,
   "metadata": {},
   "outputs": [],
   "source": [
    "# Example URL for requesting data\n",
    "# https://gage-data.earthscope.org/archive/gnss/highrate/1-Hz/rinex/2017/001/p038/p0380010.17d.Z\n",
    "\n",
    "for doy in np.arange(1,365):\n",
    "    #download\n",
    "    url='https://gage-data.earthscope.org/archive/gnss/highrate/1-Hz/rinex/2017/%03d/p038/p038%03d0.17d.Z' %(doy,doy)\n",
    "    print('downloading: ', url)\n",
    "    get_es_file(url, './rinex_data/2017/rinex/p038/')"
   ]
  },
  {
   "cell_type": "markdown",
   "metadata": {},
   "source": [
    "**Task**: If files are downloaded in parallel, it can reduce the time for the program to complete. Can you create a new function that implements a parallel download? Look at this [solution](https://opensourceoptions.com/use-python-to-download-multiple-files-or-urls-in-parallel/) from OpenSource Options. Add a code cell below with your code."
   ]
  },
  {
   "cell_type": "code",
   "execution_count": null,
   "metadata": {},
   "outputs": [],
   "source": [
    "# Parallel download\n",
    "\n",
    "from multiprocessing import cpu_count\n",
    "from multiprocessing.pool import ThreadPool\n",
    "\n",
    "## add your code"
   ]
  },
  {
   "cell_type": "markdown",
   "metadata": {},
   "source": [
    "Observation files are Hatanaka compressed and gnssrefl uses the [RNXCMP](https://terras.gsi.go.jp/ja/crx2rnx.html) executable to read these files. To simplify configuration and reduce external dependencies, we can use the [hatanaka](https://pypi.org/project/hatanaka/) package to decompress the files."
   ]
  },
  {
   "cell_type": "code",
   "execution_count": null,
   "metadata": {},
   "outputs": [],
   "source": [
    "import hatanaka\n",
    "\n",
    "for doy in np.arange(1,365):\n",
    "    fn='./rinex_data/2017/rinex/p038/p038%03d0.17d.Z' %(doy)\n",
    "    hatanaka.decompress_on_disk(fn)"
   ]
  },
  {
   "cell_type": "markdown",
   "metadata": {},
   "source": [
    "## Environment set up\n",
    "\n",
    "\n",
    "\n",
    "First, start by importing everything we need to run GNSS-IR:\n",
    "\n",
    "Set environment"
   ]
  },
  {
   "cell_type": "code",
   "execution_count": null,
   "metadata": {},
   "outputs": [],
   "source": [
    "from gnssrefl.utils import check_environment, set_environment, get_sys\n",
    "\n",
    "notebook_dir = Path.cwd().parents[1]\n",
    "\n",
    "# Making sure environment variables are set - this is required to run the gnssrefl code\n",
    "exists = check_environment()\n",
    "if exists == False:\n",
    "    set_environment(\n",
    "        refl_code=str(notebook_dir),\n",
    "        orbits=str(notebook_dir / \"orbits\"),\n",
    "        exe=str(notebook_dir / \"exe\"),\n",
    "    )\n",
    "\n",
    "# If you are running this locally - make sure the items in the exe folder have execution permissions\n",
    "\n",
    "# Set local variable of refl_code location\n",
    "refl_code_loc = os.environ[\"REFL_CODE\"]\n",
    "print(\"refl_code location:\", refl_code_loc)\n",
    "\n",
    "\n",
    "%env REFL_CODE=/Users/sophiaparafina/git/spara/gnss-exploration/rinex_data\n",
    "\n"
   ]
  },
  {
   "cell_type": "markdown",
   "metadata": {},
   "source": [
    "## GNSS-IR\n",
    "\n",
    "Start by analyzing the data using the normal reflector height (GNSS-IR) processing and generating SNR files. SNR files contain the satellite number, time, elevation angle, azimuth angle, and SNR data"
   ]
  },
  {
   "cell_type": "code",
   "execution_count": null,
   "metadata": {},
   "outputs": [],
   "source": [
    "from gnssrefl.vwc_cl import vwc\n",
    "from gnssrefl.quickPhase import quickphase\n",
    "from gnssrefl.vwc_input import vwc_input\n",
    "from gnssrefl.daily_avg_cl import daily_avg\n",
    "from gnssrefl.gnssir_input import make_gnssir_input\n",
    "from gnssrefl.gnssir_cl import gnssir\n",
    "from gnssrefl.rinex2snr_cl import rinex2snr\n",
    "from gnssrefl.installexe_cl import installexe\n",
    "import ipywidgets as widgets\n",
    "import matplotlib.pyplot as plt\n",
    "\n",
    "refl_code_loc = os.environ[\"REFL_CODE\"]\n",
    "\n",
    "station = \"p038\"\n",
    "year = 2017\n",
    "doy = 1\n",
    "doy_end = 365\n",
    "\n",
    "rinex2snr(station=station, year=year, doy=doy, doy_end=doy_end, nolook=True);"
   ]
  },
  {
   "cell_type": "markdown",
   "metadata": {},
   "source": [
    "To understand why L2C data are superior to the L1 data recorded for this receiver, use quickLook. You will need to import it from gnssrefl."
   ]
  },
  {
   "cell_type": "code",
   "execution_count": null,
   "metadata": {},
   "outputs": [],
   "source": [
    "from gnssrefl.quickLook_cl import quicklook\n",
    "quicklook(station, year, doy, fr=20)"
   ]
  },
  {
   "cell_type": "markdown",
   "metadata": {},
   "source": [
    "The analysis parameters are set up with `make_gnssir_input`. We only need the L2C data, so have set the parameter accordingly."
   ]
  },
  {
   "cell_type": "code",
   "execution_count": null,
   "metadata": {},
   "outputs": [],
   "source": [
    "make_gnssir_input(station, 2017);"
   ]
  },
  {
   "cell_type": "markdown",
   "metadata": {},
   "source": [
    "Now we run gnssir. This will be needed for estimate a priori reflector heights for the soil moisture code."
   ]
  },
  {
   "cell_type": "code",
   "execution_count": null,
   "metadata": {},
   "outputs": [],
   "source": [
    "gnssir(station, year, doy, doy_end=doy_end);"
   ]
  },
  {
   "cell_type": "markdown",
   "metadata": {},
   "source": [
    "## Step 2: Soil Moisture\n",
    "\n",
    "Then we will use those results to run the soil moisture code.\n",
    "\n",
    "Please read the soil moisture user manual. It is very short and has a lot of tips that will save you time.\n",
    "\n",
    "We need a list of satellite tracks to use:"
   ]
  },
  {
   "cell_type": "code",
   "execution_count": null,
   "metadata": {},
   "outputs": [],
   "source": [
    "vwc_input(station, 2017)"
   ]
  },
  {
   "cell_type": "markdown",
   "metadata": {},
   "source": [
    "This creates a file that is stored in $REFL_CODE/input/p038_phaseRH.txt\n",
    "\n",
    "Now we estimate the phase for each satellite track on each day:"
   ]
  },
  {
   "cell_type": "code",
   "execution_count": null,
   "metadata": {},
   "outputs": [],
   "source": [
    "quickphase(station, year, doy, doy_end=doy_end)"
   ]
  },
  {
   "cell_type": "markdown",
   "metadata": {},
   "source": [
    "Finally, convert the phase to volumetric water content.\n",
    "\n",
    "This will result in 4 plots:\n",
    "\n",
    "Phase results in geographic coordinates\n",
    "Daily average phase\n",
    "Model inputs\n",
    "Final Results\n",
    "These will all be saved in $REFL_CODE/Files"
   ]
  },
  {
   "cell_type": "code",
   "execution_count": null,
   "metadata": {},
   "outputs": [],
   "source": [
    "vwc(station, year)"
   ]
  }
 ],
 "metadata": {
  "language_info": {
   "name": "python"
  }
 },
 "nbformat": 4,
 "nbformat_minor": 2
}
