{
 "cells": [
  {
   "cell_type": "markdown",
   "id": "eeb77e4f-347d-4e80-ad8b-58e61edb9c35",
   "metadata": {},
   "source": [
    "# Exercise: Working with waveforms"
   ]
  },
  {
   "cell_type": "markdown",
   "id": "6935a6f4-52c0-4831-accd-2255c32fa504",
   "metadata": {},
   "source": [
    "## Download earthquake data\n",
    "\n",
    "When writing a program, consider what packages we will need to accomplish the tasks. To download data, we'll need a client function to find and retrieve seismic data. Also does is there a requirement for the data to be formatted in a specific way? Start your program with the tools you'll need."
   ]
  },
  {
   "cell_type": "code",
   "execution_count": null,
   "id": "7eead73b-441c-499d-a331-78eb776e597f",
   "metadata": {},
   "outputs": [],
   "source": []
  },
  {
   "cell_type": "markdown",
   "id": "b2354b3e-8a97-4e69-ab5c-b414a3696bea",
   "metadata": {},
   "source": [
    "You can find an earthquake by searching the [USGS Earthquake Browser](https://earthquake.usgs.gov/earthquakes/map/) to find a recent earthquake. USGS also provides a [customizable search](https://earthquake.usgs.gov/earthquakes/search/) if you are searching for a specific event. To download data using obspy, you'll need several parameters. The initial search provides the event time which can be used for creating start and end times.\n",
    "\n",
    "> Hint: Convert the event time to UTCDateTime to get the data.\n",
    "\n",
    "We want to find the closest station to the earthquake to get the `network`,`station`, and `location`. There are many networks, but we can use [IU](https://ds.iris.edu/mda/IU/) the Global Seismic Network. To find the closest station, open the [IRIS Gmap](https://ds.iris.edu/gmap/) and enter `IU` in the **NetworK** form field, the select **Update Map**.\n",
    "\n",
    "![](./images/iris-gmap.png)\n",
    "\n",
    "Find the station closest to the earthquake on the map and select it.\n",
    "\n",
    "![](./images/station-popup.png)\n",
    "\n",
    "Select **More Information** in the popup to get station metadata. The station metadata page list the available instruments, locations, and channels. Use this information to get waveforms for the earthquake.\n",
    "\n",
    "![](./images/station-metadata.png)\n",
    "\n"
   ]
  },
  {
   "cell_type": "code",
   "execution_count": null,
   "id": "d511e045-bcaf-447f-a895-b5a9d80f25b3",
   "metadata": {},
   "outputs": [],
   "source": []
  },
  {
   "cell_type": "markdown",
   "id": "5f3a1a1b-a65a-43a9-bf7a-4b51e5e08bd4",
   "metadata": {},
   "source": [
    "## Remove the instrument response\n",
    "\n",
    "Convert the data from the time domain to the frequency domain using the `remove_respond` method from the stream. Try converting the data to velocity, acceleration, displacement, or all three. You can also try different streams, locations, and channels. Plot the results and compare them.\n",
    "\n",
    "> Hint: Make copies of the original data before performing operations on the data\n"
   ]
  },
  {
   "cell_type": "code",
   "execution_count": null,
   "id": "d5310b48-a274-48df-9870-d048f72e63e2",
   "metadata": {},
   "outputs": [],
   "source": []
  },
  {
   "cell_type": "markdown",
   "id": "13c0908a-27be-47b8-b26d-80fe36c7dae0",
   "metadata": {},
   "source": [
    "## Filter\n",
    "\n",
    "Apply a filter to the data. Plot the raw data and the filtered data to compare the results."
   ]
  },
  {
   "cell_type": "code",
   "execution_count": null,
   "id": "80a7da72-7663-4aab-82c2-0cdf783fbe3f",
   "metadata": {},
   "outputs": [],
   "source": []
  },
  {
   "cell_type": "markdown",
   "id": "b51dfffd-e8ab-4238-a876-d12ef0a2b172",
   "metadata": {},
   "source": [
    "## Trim\n",
    "\n",
    "Trim the data to focus in on the event."
   ]
  },
  {
   "cell_type": "code",
   "execution_count": null,
   "id": "acdd44d9-c36d-4f68-b559-5cac2ed1adad",
   "metadata": {},
   "outputs": [],
   "source": []
  },
  {
   "cell_type": "markdown",
   "id": "91a08e80-ac02-446d-a846-917c983bac4f",
   "metadata": {},
   "source": [
    "## Change the Sampling Rate\n",
    "\n",
    "Using the trimmed data, apply different sampling methods and compare the results by plotting them."
   ]
  },
  {
   "cell_type": "code",
   "execution_count": null,
   "id": "c4fc15b2-bd6d-43ac-838e-911d0effe642",
   "metadata": {},
   "outputs": [],
   "source": []
  }
 ],
 "metadata": {
  "kernelspec": {
   "display_name": "Python 3 (ipykernel)",
   "language": "python",
   "name": "python3"
  },
  "language_info": {
   "codemirror_mode": {
    "name": "ipython",
    "version": 3
   },
   "file_extension": ".py",
   "mimetype": "text/x-python",
   "name": "python",
   "nbconvert_exporter": "python",
   "pygments_lexer": "ipython3",
   "version": "3.12.2"
  }
 },
 "nbformat": 4,
 "nbformat_minor": 5
}
